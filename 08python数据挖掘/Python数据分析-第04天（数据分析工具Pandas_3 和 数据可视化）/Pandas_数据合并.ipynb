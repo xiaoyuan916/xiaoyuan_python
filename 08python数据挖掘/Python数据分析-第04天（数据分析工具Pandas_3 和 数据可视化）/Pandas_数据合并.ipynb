{
 "cells": [
  {
   "cell_type": "markdown",
   "metadata": {},
   "source": [
    "# 数据合并(pd.concat)"
   ]
  },
  {
   "cell_type": "code",
   "execution_count": null,
   "metadata": {
    "collapsed": true
   },
   "outputs": [],
   "source": [
    "# 表示相同字段的数据进行首尾连接"
   ]
  },
  {
   "cell_type": "code",
   "execution_count": 1,
   "metadata": {
    "collapsed": true
   },
   "outputs": [],
   "source": [
    "import numpy as np\n",
    "import pandas as pd"
   ]
  },
  {
   "cell_type": "code",
   "execution_count": 3,
   "metadata": {
    "collapsed": false
   },
   "outputs": [
    {
     "name": "stdout",
     "output_type": "stream",
     "text": [
      "[[1 6 9 2]\n",
      " [3 0 1 1]\n",
      " [3 6 0 5]]\n",
      "[[1 8 6 5]\n",
      " [9 5 4 3]\n",
      " [9 6 8 6]]\n",
      "----------\n",
      "[[1 6 9 2 1 8 6 5]\n",
      " [3 0 1 1 9 5 4 3]\n",
      " [3 6 0 5 9 6 8 6]]\n"
     ]
    }
   ],
   "source": [
    "# 1. Numpy里的 concatenate\n",
    "arr1 = np.random.randint(0, 10, (3, 4))\n",
    "arr2 = np.random.randint(0, 10, (3, 4))\n",
    "\n",
    "print(arr1)\n",
    "print(arr2)\n",
    "print(\"-\" * 10)\n",
    "# 默认轴方向是列，两个数组列部分首尾连接(6 * 3)\n",
    "#print(np.concatenate([arr1, arr2]))\n",
    "# axis 的轴方向是行，那么就是两个数的行部分首尾链接 (3 * 6)\n",
    "print(np.concatenate([arr1, arr2], axis=1))"
   ]
  },
  {
   "cell_type": "code",
   "execution_count": null,
   "metadata": {
    "collapsed": true
   },
   "outputs": [],
   "source": [
    "# 2. pandas 里的 concat"
   ]
  },
  {
   "cell_type": "code",
   "execution_count": 15,
   "metadata": {
    "collapsed": false
   },
   "outputs": [
    {
     "name": "stdout",
     "output_type": "stream",
     "text": [
      "0    4\n",
      "1    4\n",
      "2    5\n",
      "3    3\n",
      "4    0\n",
      "dtype: int32\n",
      "5    5\n",
      "6    2\n",
      "7    5\n",
      "8    0\n",
      "dtype: int32\n",
      "9     7\n",
      "10    6\n",
      "11    1\n",
      "dtype: int32\n",
      "----------\n",
      "0     4\n",
      "1     4\n",
      "2     5\n",
      "3     3\n",
      "4     0\n",
      "5     5\n",
      "6     2\n",
      "7     5\n",
      "8     0\n",
      "9     7\n",
      "10    6\n",
      "11    1\n",
      "dtype: int32\n"
     ]
    }
   ],
   "source": [
    "# 2.1 index 没有重复的情况\n",
    "ser_obj1 = pd.Series(np.random.randint(0, 10, 5), index=range(0,5))\n",
    "ser_obj2 = pd.Series(np.random.randint(0, 10, 4), index=range(5,9))\n",
    "ser_obj3 = pd.Series(np.random.randint(0, 10, 3), index=range(9,12))\n",
    "\n",
    "print(ser_obj1)\n",
    "print(ser_obj2)\n",
    "print(ser_obj3)\n",
    "print(\"-\" * 10)\n",
    "# 默认是按列进行连接，默认外连接\n",
    "print(pd.concat([ser_obj1, ser_obj2, ser_obj3]))\n",
    "\n",
    "# axis = 1 按行连接，默认外连接\n",
    "#print(pd.concat([ser_obj1, ser_obj2, ser_obj3], axis = 1))\n",
    "\n",
    "# 默认\"outer\"是外连接，join = \"inner\" 表示内连接（数据是交集）\n",
    "# 如果没有交集的数据，则去除NaN所在的行/列\n",
    "#print(pd.concat([ser_obj1, ser_obj2, ser_obj3], axis = 1, join=\"inner\"))\n",
    "\n",
    "# print(pd.concat([ser_obj1, ser_obj2, ser_obj3], join=\"inner\"))"
   ]
  },
  {
   "cell_type": "code",
   "execution_count": 17,
   "metadata": {
    "collapsed": false
   },
   "outputs": [
    {
     "name": "stdout",
     "output_type": "stream",
     "text": [
      "0    1\n",
      "1    7\n",
      "2    1\n",
      "3    6\n",
      "4    9\n",
      "dtype: int32\n",
      "0    5\n",
      "1    0\n",
      "2    3\n",
      "3    0\n",
      "dtype: int32\n",
      "0    9\n",
      "1    3\n",
      "2    1\n",
      "dtype: int32\n",
      "----------\n",
      "   0  1  2\n",
      "0  1  5  9\n",
      "1  7  0  3\n",
      "2  1  3  1\n"
     ]
    }
   ],
   "source": [
    "# 2.2 index 有重复的情况\n",
    "ser_obj1 = pd.Series(np.random.randint(0, 10, 5), index=range(5))\n",
    "ser_obj2 = pd.Series(np.random.randint(0, 10, 4), index=range(4))\n",
    "ser_obj3 = pd.Series(np.random.randint(0, 10, 3), index=range(3))\n",
    "print(ser_obj1)\n",
    "print(ser_obj2)\n",
    "print(ser_obj3)\n",
    "print(\"-\" * 10)\n",
    "# 默认是按列进行连接，默认外连接\n",
    "#print(pd.concat([ser_obj1, ser_obj2, ser_obj3]))\n",
    "\n",
    "# axis = 1 按行连接，默认外连接\n",
    "#print(pd.concat([ser_obj1, ser_obj2, ser_obj3], axis = 1))\n",
    "\n",
    "# 默认\"outer\"是外连接，join = \"inner\" 表示内连接（数据是交集）\n",
    "# 如果没有交集的数据，则去除NaN所在的行/列\n",
    "print(pd.concat([ser_obj1, ser_obj2, ser_obj3], axis = 1, join=\"inner\"))\n",
    "\n",
    "# print(pd.concat([ser_obj1, ser_obj2, ser_obj3], join=\"inner\"))"
   ]
  },
  {
   "cell_type": "code",
   "execution_count": 18,
   "metadata": {
    "collapsed": false
   },
   "outputs": [
    {
     "name": "stdout",
     "output_type": "stream",
     "text": [
      "   A  B\n",
      "a  5  7\n",
      "b  4  0\n",
      "c  3  7\n",
      "   C  D\n",
      "a  0  9\n",
      "b  2  9\n"
     ]
    }
   ],
   "source": [
    "## DataFrame \n",
    "df_obj1 = pd.DataFrame(np.random.randint(0, 10, (3, 2)), index=['a', 'b', 'c'],\n",
    "                       columns=['A', 'B'])\n",
    "df_obj2 = pd.DataFrame(np.random.randint(0, 10, (2, 2)), index=['a', 'b'],\n",
    "                       columns=['C', 'D'])\n",
    "print(df_obj1)\n",
    "print(df_obj2)"
   ]
  },
  {
   "cell_type": "code",
   "execution_count": 21,
   "metadata": {
    "collapsed": false
   },
   "outputs": [
    {
     "name": "stdout",
     "output_type": "stream",
     "text": [
      "   A  B  C  D\n",
      "a  5  7  0  9\n",
      "b  4  0  2  9\n"
     ]
    }
   ],
   "source": [
    "#　默认是按行连接\n",
    "#print(pd.concat([df_obj1, df_obj2]))\n",
    "# 指定轴方向，通知按内连接(NaN所在的行/列将被去除)\n",
    "print(pd.concat([df_obj1, df_obj2], axis = 1, join= \"inner\"))"
   ]
  },
  {
   "cell_type": "code",
   "execution_count": null,
   "metadata": {
    "collapsed": true
   },
   "outputs": [],
   "source": []
  },
  {
   "cell_type": "code",
   "execution_count": null,
   "metadata": {
    "collapsed": true
   },
   "outputs": [],
   "source": []
  },
  {
   "cell_type": "code",
   "execution_count": null,
   "metadata": {
    "collapsed": true
   },
   "outputs": [],
   "source": []
  }
 ],
 "metadata": {
  "kernelspec": {
   "display_name": "Python 3",
   "language": "python",
   "name": "python3"
  },
  "language_info": {
   "codemirror_mode": {
    "name": "ipython",
    "version": 3
   },
   "file_extension": ".py",
   "mimetype": "text/x-python",
   "name": "python",
   "nbconvert_exporter": "python",
   "pygments_lexer": "ipython3",
   "version": "3.6.0"
  }
 },
 "nbformat": 4,
 "nbformat_minor": 2
}
