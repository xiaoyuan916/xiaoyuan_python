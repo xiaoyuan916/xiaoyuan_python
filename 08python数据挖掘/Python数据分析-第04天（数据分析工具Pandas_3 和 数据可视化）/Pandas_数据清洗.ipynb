{
 "cells": [
  {
   "cell_type": "code",
   "execution_count": 1,
   "metadata": {
    "collapsed": true
   },
   "outputs": [],
   "source": [
    "import numpy as np\n",
    "import pandas as pd"
   ]
  },
  {
   "cell_type": "markdown",
   "metadata": {},
   "source": [
    "## 重复数据处理"
   ]
  },
  {
   "cell_type": "code",
   "execution_count": 3,
   "metadata": {
    "collapsed": false
   },
   "outputs": [
    {
     "name": "stdout",
     "output_type": "stream",
     "text": [
      "  data1  data2\n",
      "0     a      3\n",
      "1     a      1\n",
      "2     a      0\n",
      "3     a      0\n",
      "4     b      1\n",
      "5     b      3\n",
      "6     b      1\n",
      "7     b      0\n",
      "0    False\n",
      "1    False\n",
      "2    False\n",
      "3     True\n",
      "4    False\n",
      "5    False\n",
      "6     True\n",
      "7    False\n",
      "dtype: bool\n"
     ]
    }
   ],
   "source": [
    "# 1. dumplicated 判断是否有重复数据\n",
    "df_obj = pd.DataFrame({'data1' : ['a'] * 4 + ['b'] * 4,\n",
    "                       'data2' : np.random.randint(0, 4, 8)})\n",
    "print(df_obj)\n",
    "\n",
    "# 每一行和之前的行进行判断，如果和之前的行有重复，则返回True，否则为False\n",
    "print(df_obj.duplicated())"
   ]
  },
  {
   "cell_type": "code",
   "execution_count": 6,
   "metadata": {
    "collapsed": false
   },
   "outputs": [
    {
     "name": "stdout",
     "output_type": "stream",
     "text": [
      "  data1  data2\n",
      "0     a      3\n",
      "1     a      1\n",
      "2     a      0\n"
     ]
    }
   ],
   "source": [
    "# 2. 过滤重复数据，如果某一行数据和之前有重复，则去除那一行\n",
    "#print(df_obj.drop_duplicates())\n",
    "\n",
    "# 可以指定按某一列进行判断\n",
    "print(df_obj.drop_duplicates(\"data2\"))"
   ]
  },
  {
   "cell_type": "markdown",
   "metadata": {},
   "source": [
    "## 替换指定数据"
   ]
  },
  {
   "cell_type": "code",
   "execution_count": 11,
   "metadata": {
    "collapsed": false
   },
   "outputs": [
    {
     "name": "stdout",
     "output_type": "stream",
     "text": [
      "0    0\n",
      "1    4\n",
      "2    5\n",
      "3    4\n",
      "4    3\n",
      "5    5\n",
      "6    8\n",
      "7    5\n",
      "8    8\n",
      "9    3\n",
      "dtype: int32\n"
     ]
    }
   ],
   "source": [
    "ser_obj = pd.Series(np.random.randint(0,10,10))\n",
    "print(ser_obj)\n"
   ]
  },
  {
   "cell_type": "code",
   "execution_count": 12,
   "metadata": {
    "collapsed": false
   },
   "outputs": [
    {
     "name": "stdout",
     "output_type": "stream",
     "text": [
      "0      0\n",
      "1    100\n",
      "2    100\n",
      "3    100\n",
      "4      3\n",
      "5    100\n",
      "6      8\n",
      "7    100\n",
      "8      8\n",
      "9      3\n",
      "dtype: int32\n"
     ]
    }
   ],
   "source": [
    "\n",
    "# repalce() 用来替换某个数值，接收两个参数，将第一个参数的数值替换为 第二个参数的数值\n",
    "# 如果替换NaN ，则使用 fillna()\n",
    "#print(ser_obj.replace(5, 100))\n",
    "\n",
    "# 如果要替换多个数值，则第一个参数传入一个可迭代对象，包含所有需要替换的数值\n",
    "print(ser_obj.replace([4, 5], 100))"
   ]
  },
  {
   "cell_type": "code",
   "execution_count": null,
   "metadata": {
    "collapsed": true
   },
   "outputs": [],
   "source": []
  },
  {
   "cell_type": "code",
   "execution_count": null,
   "metadata": {
    "collapsed": true
   },
   "outputs": [],
   "source": []
  },
  {
   "cell_type": "code",
   "execution_count": null,
   "metadata": {
    "collapsed": true
   },
   "outputs": [],
   "source": []
  }
 ],
 "metadata": {
  "kernelspec": {
   "display_name": "Python 3",
   "language": "python",
   "name": "python3"
  },
  "language_info": {
   "codemirror_mode": {
    "name": "ipython",
    "version": 3
   },
   "file_extension": ".py",
   "mimetype": "text/x-python",
   "name": "python",
   "nbconvert_exporter": "python",
   "pygments_lexer": "ipython3",
   "version": "3.6.0"
  }
 },
 "nbformat": 4,
 "nbformat_minor": 2
}
