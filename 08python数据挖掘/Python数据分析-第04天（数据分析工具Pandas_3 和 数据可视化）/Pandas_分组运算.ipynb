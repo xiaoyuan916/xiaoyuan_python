{
 "cells": [
  {
   "cell_type": "code",
   "execution_count": 1,
   "metadata": {
    "collapsed": true
   },
   "outputs": [],
   "source": [
    "import pandas as pd\n",
    "import numpy as np"
   ]
  },
  {
   "cell_type": "code",
   "execution_count": 25,
   "metadata": {
    "collapsed": false
   },
   "outputs": [
    {
     "name": "stdout",
     "output_type": "stream",
     "text": [
      "   data1  data2 key1   key2\n",
      "0      1      5    a    one\n",
      "1      9      7    b    one\n",
      "2      9      4    a    two\n",
      "3      2      1    b  three\n",
      "4      5      6    a    two\n",
      "5      4      1    b    two\n",
      "6      9      2    a    one\n",
      "7      3      6    a  three\n"
     ]
    }
   ],
   "source": [
    "dict_obj = {'key1' : ['a', 'b', 'a', 'b', \n",
    "                      'a', 'b', 'a', 'a'],\n",
    "            'key2' : ['one', 'one', 'two', 'three',\n",
    "                      'two', 'two', 'one', 'three'],\n",
    "            'data1': np.random.randint(1, 10, 8),\n",
    "            'data2': np.random.randint(1, 10, 8)}\n",
    "df_obj = pd.DataFrame(dict_obj)\n",
    "print(df_obj)"
   ]
  },
  {
   "cell_type": "code",
   "execution_count": 9,
   "metadata": {
    "collapsed": false
   },
   "outputs": [
    {
     "name": "stdout",
     "output_type": "stream",
     "text": [
      "       sum_data1  sum_data2\n",
      "key2                       \n",
      "one            5         25\n",
      "three          6         11\n",
      "two           19          8\n"
     ]
    }
   ],
   "source": [
    "# 按key2来分组，进行sum() 运算，并将计算后的data1 和 data2的结果添加列名前缀 sum_\n",
    "df_sum = df_obj.groupby(\"key2\").sum().add_prefix(\"sum_\")\n",
    "print(df_sum)"
   ]
  },
  {
   "cell_type": "markdown",
   "metadata": {},
   "source": [
    "### merge 进行表合并"
   ]
  },
  {
   "cell_type": "code",
   "execution_count": null,
   "metadata": {
    "collapsed": true
   },
   "outputs": [],
   "source": [
    "# 主键：主键是一张表的主键，必须是唯一且非空的。\n",
    "# 外键：是另一张表中，与这张表的某个字段的类型、字段名都是相同的字段。\n",
    "# 一般用来关联两张或多张表的数据表用。"
   ]
  },
  {
   "cell_type": "code",
   "execution_count": 14,
   "metadata": {
    "collapsed": false
   },
   "outputs": [
    {
     "name": "stdout",
     "output_type": "stream",
     "text": [
      "   data1  data2 key1   key2  sum_data1  sum_data2\n",
      "0      1      9    a    one          5         25\n",
      "1      3      7    b    one          5         25\n",
      "6      1      9    a    one          5         25\n",
      "2      5      2    a    two         19          8\n",
      "4      9      4    a    two         19          8\n",
      "5      5      2    b    two         19          8\n",
      "3      1      9    b  three          6         11\n",
      "7      5      2    a  three          6         11\n"
     ]
    }
   ],
   "source": [
    "# left_on：左边数据表的\"外键\"\n",
    "# right_on：右边数据表的\"外键\"\n",
    "# left_index：使用左边的DataFrame对象的行索引做为连接健\n",
    "# right_index：使用右边的DataFrame对象的行索引做为连接健\n",
    "# 一般情况下，外键和连接健的方向是相反的。\n",
    "\n",
    "#　第一种方法，merge可以将两张表合并，但是前提条件是 必须有相同的外键\n",
    "key1_merge = pd.merge(df_obj, df_sum, left_on = \"key2\", right_index = True)\n",
    "print(key1_merge)"
   ]
  },
  {
   "cell_type": "markdown",
   "metadata": {},
   "source": [
    "## transform 表合并"
   ]
  },
  {
   "cell_type": "code",
   "execution_count": 15,
   "metadata": {
    "collapsed": false
   },
   "outputs": [
    {
     "name": "stdout",
     "output_type": "stream",
     "text": [
      "   data1  data2 key1   key2\n",
      "0      1      9    a    one\n",
      "1      3      7    b    one\n",
      "2      5      2    a    two\n",
      "3      1      9    b  three\n",
      "4      9      4    a    two\n",
      "5      5      2    b    two\n",
      "6      1      9    a    one\n",
      "7      5      2    a  three\n",
      "       sum_data1  sum_data2\n",
      "key2                       \n",
      "one            5         25\n",
      "three          6         11\n",
      "two           19          8\n"
     ]
    }
   ],
   "source": [
    "print(df_obj)\n",
    "print(df_sum)"
   ]
  },
  {
   "cell_type": "code",
   "execution_count": 24,
   "metadata": {
    "collapsed": false
   },
   "outputs": [
    {
     "name": "stdout",
     "output_type": "stream",
     "text": [
      "   data1  data2 key1   key2 sum_data1 sum_data2           sum_key2\n",
      "0      9      5    a    one        22        22  onetwotwoonethree\n",
      "1      6      7    b    one        20        16        onethreetwo\n",
      "2      3      1    a    two        22        22  onetwotwoonethree\n",
      "3      7      3    b  three        20        16        onethreetwo\n",
      "4      2      6    a    two        22        22  onetwotwoonethree\n",
      "5      7      6    b    two        20        16        onethreetwo\n",
      "6      1      9    a    one        22        22  onetwotwoonethree\n",
      "7      7      1    a  three        22        22  onetwotwoonethree\n"
     ]
    }
   ],
   "source": [
    "# 第二种方法，使用transform进行聚合运算， 运算结果和原始数据形状保持一致\n",
    "key1_trans = df_obj.groupby(\"key1\").transform(sum).add_prefix(\"sum_\")\n",
    "# 将key1_trans 的列数据添加到原始数据里\n",
    "df_obj[key1_trans.columns] = key1_trans\n",
    "print(df_obj)"
   ]
  },
  {
   "cell_type": "code",
   "execution_count": 27,
   "metadata": {
    "collapsed": false
   },
   "outputs": [
    {
     "name": "stdout",
     "output_type": "stream",
     "text": [
      "   data1  data2 key1   key2 newsum_data1 newsum_data2        newsum_key2\n",
      "0      1      5    a    one           27           23  onetwotwoonethree\n",
      "1      9      7    b    one           15            9        onethreetwo\n",
      "2      9      4    a    two           27           23  onetwotwoonethree\n",
      "3      2      1    b  three           15            9        onethreetwo\n",
      "4      5      6    a    two           27           23  onetwotwoonethree\n",
      "5      4      1    b    two           15            9        onethreetwo\n",
      "6      9      2    a    one           27           23  onetwotwoonethree\n",
      "7      3      6    a  three           27           23  onetwotwoonethree\n"
     ]
    }
   ],
   "source": [
    "# transform可以传入自定义函数\n",
    "def func(df):\n",
    "    return df.sum()\n",
    "\n",
    "newkey1_trans = df_obj.groupby(\"key1\").transform(func).add_prefix(\"newsum_\")\n",
    "df_obj[newkey1_trans.columns] = newkey1_trans\n",
    "print(df_obj)"
   ]
  },
  {
   "cell_type": "markdown",
   "metadata": {},
   "source": [
    "## apply "
   ]
  },
  {
   "cell_type": "code",
   "execution_count": 33,
   "metadata": {
    "collapsed": false
   },
   "outputs": [
    {
     "name": "stdout",
     "output_type": "stream",
     "text": [
      "                  LeagueIndex   Age  HoursPerWeek  TotalHours       APM\n",
      "LeagueIndex                                                            \n",
      "1           2214            1  20.0          12.0       730.0  172.9530\n",
      "            2246            1  27.0           8.0       250.0  141.6282\n",
      "            1753            1  20.0          28.0       100.0  139.6362\n",
      "2           3062            2  20.0           6.0       100.0  179.6250\n",
      "            3229            2  16.0          24.0       110.0  156.7380\n",
      "            1520            2  29.0           6.0       250.0  151.6470\n",
      "3           1557            3  22.0           6.0       200.0  226.6554\n",
      "            484             3  19.0          42.0       450.0  220.0692\n",
      "            2883            3  16.0           8.0       800.0  208.9500\n",
      "4           2688            4  26.0          24.0       990.0  249.0210\n",
      "            1759            4  16.0           6.0        75.0  229.9122\n",
      "            2637            4  23.0          24.0       650.0  227.2272\n",
      "5           3277            5  18.0          16.0       950.0  372.6426\n",
      "            93              5  17.0          36.0       720.0  335.4990\n",
      "            202             5  37.0          14.0       800.0  327.7218\n",
      "6           734             6  16.0          28.0       730.0  389.8314\n",
      "            2746            6  16.0          28.0      4000.0  350.4114\n",
      "            1810            6  21.0          14.0       730.0  323.2506\n",
      "7           3127            7  23.0          42.0      2000.0  298.7952\n",
      "            104             7  21.0          24.0      1000.0  286.4538\n",
      "            1654            7  18.0          98.0       700.0  236.0316\n",
      "8           3393            8   NaN           NaN         NaN  375.8664\n",
      "            3373            8   NaN           NaN         NaN  364.8504\n",
      "            3372            8   NaN           NaN         NaN  355.3518\n"
     ]
    }
   ],
   "source": [
    "\n",
    "## 案例 starcraft APM\n",
    "data_path = \"starcraft.csv\"\n",
    "\n",
    "# 读取本地csv文件的 指定列\n",
    "df_data = pd.read_csv(data_path, usecols=['LeagueIndex', 'Age', 'HoursPerWeek', \n",
    "                                             'TotalHours', 'APM'])\n",
    "#print(df_data)\n",
    "\n",
    "def top_n(df_obj):\n",
    "    # 返回根据APM排序后的结果的前3位数据\n",
    "    return df_obj.sort_values(by=\"APM\", ascending=False)[:3]\n",
    "\n",
    "# 对df_obj按LeagueIndex进行分组，并调用apple(top_n)\n",
    "sort_df = df_data.groupby(\"LeagueIndex\").apply(top_n)\n",
    "print(sort_df)"
   ]
  },
  {
   "cell_type": "code",
   "execution_count": null,
   "metadata": {
    "collapsed": true
   },
   "outputs": [],
   "source": []
  },
  {
   "cell_type": "code",
   "execution_count": null,
   "metadata": {
    "collapsed": true
   },
   "outputs": [],
   "source": []
  }
 ],
 "metadata": {
  "kernelspec": {
   "display_name": "Python 3",
   "language": "python",
   "name": "python3"
  },
  "language_info": {
   "codemirror_mode": {
    "name": "ipython",
    "version": 3
   },
   "file_extension": ".py",
   "mimetype": "text/x-python",
   "name": "python",
   "nbconvert_exporter": "python",
   "pygments_lexer": "ipython3",
   "version": "3.6.0"
  }
 },
 "nbformat": 4,
 "nbformat_minor": 2
}
