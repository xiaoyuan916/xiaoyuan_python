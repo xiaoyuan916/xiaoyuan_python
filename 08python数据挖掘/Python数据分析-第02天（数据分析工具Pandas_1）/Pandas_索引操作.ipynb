{
 "cells": [
  {
   "cell_type": "code",
   "execution_count": 1,
   "metadata": {
    "collapsed": true
   },
   "outputs": [],
   "source": [
    "import pandas as pd\n",
    "import numpy as np"
   ]
  },
  {
   "cell_type": "markdown",
   "metadata": {},
   "source": [
    "## Series对象的索引操作"
   ]
  },
  {
   "cell_type": "code",
   "execution_count": 10,
   "metadata": {
    "collapsed": false
   },
   "outputs": [
    {
     "name": "stdout",
     "output_type": "stream",
     "text": [
      "a    10\n",
      "b    11\n",
      "c    12\n",
      "d    13\n",
      "e    14\n",
      "dtype: int32\n"
     ]
    }
   ],
   "source": [
    "# 通过index参数指定series对象的行索引号\n",
    "ser_obj = pd.Series(range(10, 15), index = [\"a\", \"b\", \"c\", \"d\", \"e\"])\n",
    "print(ser_obj)"
   ]
  },
  {
   "cell_type": "code",
   "execution_count": 12,
   "metadata": {
    "collapsed": false
   },
   "outputs": [
    {
     "name": "stdout",
     "output_type": "stream",
     "text": [
      "12\n",
      "12\n"
     ]
    }
   ],
   "source": [
    "# 通过行索引找到数据\n",
    "print(ser_obj['c'])\n",
    "print(ser_obj[2])"
   ]
  },
  {
   "cell_type": "code",
   "execution_count": 14,
   "metadata": {
    "collapsed": false
   },
   "outputs": [
    {
     "name": "stdout",
     "output_type": "stream",
     "text": [
      "b    11\n",
      "c    12\n",
      "d    13\n",
      "dtype: int32\n",
      "b    11\n",
      "c    12\n",
      "d    13\n",
      "dtype: int32\n"
     ]
    }
   ],
   "source": [
    "## 通过切片索引找到数据\n",
    "print(ser_obj[\"b\":\"d\"])\n",
    "print(ser_obj[1:4])"
   ]
  },
  {
   "cell_type": "code",
   "execution_count": 18,
   "metadata": {
    "collapsed": false
   },
   "outputs": [
    {
     "name": "stdout",
     "output_type": "stream",
     "text": [
      "a    10\n",
      "b    11\n",
      "d    13\n",
      "dtype: int32\n",
      "a    10\n",
      "b    11\n",
      "d    13\n",
      "dtype: int32\n"
     ]
    }
   ],
   "source": [
    "## 通过不连续索引找到数据，索引参数是数据的 索引列表\n",
    "print(ser_obj[[0, 1, 3]])\n",
    "print(ser_obj[[\"a\", \"b\", \"d\"]])"
   ]
  },
  {
   "cell_type": "code",
   "execution_count": 32,
   "metadata": {
    "collapsed": false
   },
   "outputs": [
    {
     "name": "stdout",
     "output_type": "stream",
     "text": [
      "c    12\n",
      "d    13\n",
      "e    14\n",
      "dtype: int32\n",
      "a    10\n",
      "b    11\n",
      "dtype: int32\n"
     ]
    }
   ],
   "source": [
    "## 条件查找\n",
    "after11_ser_obj = ser_obj > 11\n",
    "next_obj = ser_obj < 12\n",
    "#after11_ser_obj\n",
    "print(ser_obj[after11_ser_obj])\n",
    "print(ser_obj[next_obj])\n"
   ]
  },
  {
   "cell_type": "markdown",
   "metadata": {},
   "source": [
    "## DataFrame对象的索引操作"
   ]
  },
  {
   "cell_type": "code",
   "execution_count": 9,
   "metadata": {
    "collapsed": false
   },
   "outputs": [
    {
     "name": "stdout",
     "output_type": "stream",
     "text": [
      "          A         B         C         D         E\n",
      "a  0.435294  0.782211  0.240861  0.347172  0.302460\n",
      "b  0.983611  0.501083  0.466091  0.621701  0.407381\n",
      "c  0.561439  0.483462  0.550581  0.082875  0.195083\n",
      "d  0.267857  0.374831  0.920902  0.845058  0.603401\n",
      "e  0.129526  0.915040  0.526385  0.470437  0.637972\n"
     ]
    }
   ],
   "source": [
    "# 通过index参数指定DataFrame对象的行索引号\n",
    "# 通过columns参数指定DataFrame对象的列索引号\n",
    "df_obj = pd.DataFrame(\n",
    "        np.random.rand(5, 5),\n",
    "        index = [\"a\", \"b\", \"c\", \"d\", \"e\"],\n",
    "        columns = ['A', 'B','C','D','E']\n",
    "    )\n",
    "print(df_obj)"
   ]
  },
  {
   "cell_type": "code",
   "execution_count": 41,
   "metadata": {
    "collapsed": false
   },
   "outputs": [
    {
     "name": "stdout",
     "output_type": "stream",
     "text": [
      "a    0.240861\n",
      "b    0.466091\n",
      "c    0.550581\n",
      "d    0.920902\n",
      "e    0.526385\n",
      "Name: C, dtype: float64\n",
      "a    0.240861\n",
      "b    0.466091\n",
      "c    0.550581\n",
      "d    0.920902\n",
      "e    0.526385\n",
      "Name: C, dtype: float64\n",
      "          C\n",
      "a  0.240861\n",
      "b  0.466091\n",
      "c  0.550581\n",
      "d  0.920902\n",
      "e  0.526385\n"
     ]
    }
   ],
   "source": [
    "# 列索引 找到指定列\n",
    "# 有列名称，没有行名\n",
    "print(df_obj.C)\n",
    "print(df_obj['C'])\n",
    "print(df_obj[[2]])"
   ]
  },
  {
   "cell_type": "code",
   "execution_count": 43,
   "metadata": {
    "collapsed": false
   },
   "outputs": [
    {
     "name": "stdout",
     "output_type": "stream",
     "text": [
      "          B         D         E\n",
      "a  0.782211  0.347172  0.302460\n",
      "b  0.501083  0.621701  0.407381\n",
      "c  0.483462  0.082875  0.195083\n",
      "d  0.374831  0.845058  0.603401\n",
      "e  0.915040  0.470437  0.637972\n",
      "          B         D         E\n",
      "a  0.782211  0.347172  0.302460\n",
      "b  0.501083  0.621701  0.407381\n",
      "c  0.483462  0.082875  0.195083\n",
      "d  0.374831  0.845058  0.603401\n",
      "e  0.915040  0.470437  0.637972\n"
     ]
    }
   ],
   "source": [
    "## DataFrame对象的不连续索引，参数是需要匹配的 列索引列表\n",
    "print(df_obj[[\"B\", \"D\", \"E\"]])\n",
    "print(df_obj[[1, 3, 4]])"
   ]
  },
  {
   "cell_type": "markdown",
   "metadata": {},
   "source": [
    "## 高级索引，标签、位置和混合索引"
   ]
  },
  {
   "cell_type": "markdown",
   "metadata": {},
   "source": [
    "#### loc 标签索引"
   ]
  },
  {
   "cell_type": "code",
   "execution_count": 46,
   "metadata": {
    "collapsed": false
   },
   "outputs": [
    {
     "name": "stdout",
     "output_type": "stream",
     "text": [
      "b    11\n",
      "c    12\n",
      "d    13\n",
      "dtype: int32\n",
      "b    11\n",
      "c    12\n",
      "d    13\n",
      "dtype: int32\n"
     ]
    }
   ],
   "source": [
    "# Series对象可以通过切片，也可以通过loc来索引\n",
    "print(ser_obj[\"b\":\"d\"])\n",
    "print(ser_obj.loc[\"b\":\"d\"])"
   ]
  },
  {
   "cell_type": "code",
   "execution_count": 53,
   "metadata": {
    "collapsed": false
   },
   "outputs": [
    {
     "name": "stdout",
     "output_type": "stream",
     "text": [
      "          D         E\n",
      "a  0.347172  0.302460\n",
      "b  0.621701  0.407381\n",
      "c  0.082875  0.195083\n",
      "**********\n",
      "0.621701077643\n"
     ]
    }
   ],
   "source": [
    "## DataFrame对象不能直接通过切片来索引，但是可以通过loc来做切片索引\n",
    "# [] 里的参数 第一个是 行切片索引， 第二个是 列切片索引\n",
    "#print(df_obj['a':'c', 'D':'E'])\n",
    "print(df_obj.loc['a':'c', 'D':'E'])\n",
    "print(\"*\" * 10)\n",
    "# 通过loc找到 b行 D列 的数据\n",
    "print(df_obj.loc['b', 'D'])"
   ]
  },
  {
   "cell_type": "markdown",
   "metadata": {},
   "source": [
    "#### iloc 位置索引"
   ]
  },
  {
   "cell_type": "code",
   "execution_count": 54,
   "metadata": {
    "collapsed": false
   },
   "outputs": [
    {
     "name": "stdout",
     "output_type": "stream",
     "text": [
      "a    10\n",
      "b    11\n",
      "c    12\n",
      "d    13\n",
      "e    14\n",
      "dtype: int32\n",
      "          A         B         C         D         E\n",
      "a  0.435294  0.782211  0.240861  0.347172  0.302460\n",
      "b  0.983611  0.501083  0.466091  0.621701  0.407381\n",
      "c  0.561439  0.483462  0.550581  0.082875  0.195083\n",
      "d  0.267857  0.374831  0.920902  0.845058  0.603401\n",
      "e  0.129526  0.915040  0.526385  0.470437  0.637972\n"
     ]
    }
   ],
   "source": [
    "print(ser_obj)\n",
    "print(df_obj)"
   ]
  },
  {
   "cell_type": "code",
   "execution_count": 56,
   "metadata": {
    "collapsed": false
   },
   "outputs": [
    {
     "name": "stdout",
     "output_type": "stream",
     "text": [
      "b    11\n",
      "c    12\n",
      "dtype: int32\n",
      "b    11\n",
      "c    12\n",
      "dtype: int32\n"
     ]
    }
   ],
   "source": [
    "print(ser_obj[1:3])\n",
    "print(ser_obj.iloc[1:3])"
   ]
  },
  {
   "cell_type": "code",
   "execution_count": 58,
   "metadata": {
    "collapsed": false
   },
   "outputs": [
    {
     "name": "stdout",
     "output_type": "stream",
     "text": [
      "          C         D\n",
      "b  0.466091  0.621701\n",
      "c  0.550581  0.082875\n"
     ]
    }
   ],
   "source": [
    "## DataFrame对象不能直接通过切片来索引，但是可以通过iloc来做切片索引\n",
    "# [] 里的参数 第一个是 行切片索引， 第二个是 列切片索引\n",
    "#print(df_obj[1:3, 2:4])\n",
    "print(df_obj.iloc[1:3, 2:4])"
   ]
  },
  {
   "cell_type": "code",
   "execution_count": null,
   "metadata": {
    "collapsed": true
   },
   "outputs": [],
   "source": [
    "#### ix 混合索引（以上二者综合）"
   ]
  },
  {
   "cell_type": "code",
   "execution_count": 63,
   "metadata": {
    "collapsed": false
   },
   "outputs": [
    {
     "name": "stdout",
     "output_type": "stream",
     "text": [
      "b    11\n",
      "c    12\n",
      "dtype: int32\n",
      "b    11\n",
      "c    12\n",
      "dtype: int32\n"
     ]
    }
   ],
   "source": [
    "print(ser_obj.ix[1:3])\n",
    "print(ser_obj.ix['b':'c'])"
   ]
  },
  {
   "cell_type": "code",
   "execution_count": 70,
   "metadata": {
    "collapsed": false
   },
   "outputs": [
    {
     "name": "stdout",
     "output_type": "stream",
     "text": [
      "          C         D\n",
      "b  0.466091  0.621701\n",
      "c  0.550581  0.082875\n",
      "          C         D\n",
      "b  0.466091  0.621701\n",
      "c  0.550581  0.082875\n",
      "0.845057868815\n"
     ]
    }
   ],
   "source": [
    "# ix 混合索引既可以用标签，也可以用位置，但是不推荐使用，容易造成索引混乱\n",
    "print(df_obj.ix[1:3, 2:4])\n",
    "print(df_obj.ix['b':'c', 'C':'D'])\n",
    "print(df_obj.ix[3, 'D'])"
   ]
  },
  {
   "cell_type": "code",
   "execution_count": null,
   "metadata": {
    "collapsed": true
   },
   "outputs": [],
   "source": []
  }
 ],
 "metadata": {
  "kernelspec": {
   "display_name": "Python 3",
   "language": "python",
   "name": "python3"
  },
  "language_info": {
   "codemirror_mode": {
    "name": "ipython",
    "version": 3
   },
   "file_extension": ".py",
   "mimetype": "text/x-python",
   "name": "python",
   "nbconvert_exporter": "python",
   "pygments_lexer": "ipython3",
   "version": "3.6.0"
  }
 },
 "nbformat": 4,
 "nbformat_minor": 2
}
