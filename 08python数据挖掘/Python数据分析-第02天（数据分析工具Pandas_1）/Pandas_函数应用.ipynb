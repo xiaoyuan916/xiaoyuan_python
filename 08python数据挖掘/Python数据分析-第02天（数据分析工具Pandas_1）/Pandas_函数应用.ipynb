{
 "cells": [
  {
   "cell_type": "code",
   "execution_count": 1,
   "metadata": {
    "collapsed": true
   },
   "outputs": [],
   "source": [
    "import pandas as pd\n",
    "import numpy as np"
   ]
  },
  {
   "cell_type": "code",
   "execution_count": 2,
   "metadata": {
    "collapsed": true
   },
   "outputs": [],
   "source": [
    "# 在NumPy里，可以对数组里的每一个元素进行操作的函数，\n",
    "# 通用函数 ufunc (universal function)\n",
    "# 在Pandas里可以直接使用NumPy的 ufunc"
   ]
  },
  {
   "cell_type": "markdown",
   "metadata": {},
   "source": [
    "## 1. 直接使用NumPy ufunc"
   ]
  },
  {
   "cell_type": "code",
   "execution_count": 4,
   "metadata": {
    "collapsed": false
   },
   "outputs": [
    {
     "name": "stdout",
     "output_type": "stream",
     "text": [
      "0    10\n",
      "1    11\n",
      "2    12\n",
      "3    13\n",
      "4    14\n",
      "5    15\n",
      "6    16\n",
      "7    17\n",
      "8    18\n",
      "9    19\n",
      "dtype: int32\n",
      "           0          1          2          3\n",
      "0 -10.716155 -11.340276  -8.196304  -9.442813\n",
      "1 -10.781177 -10.671547  -9.753840  -9.602143\n",
      "2  -8.772428  -9.804794 -10.852700 -10.429130\n"
     ]
    }
   ],
   "source": [
    "ser_obj = pd.Series(np.arange(10) + 10)\n",
    "print(ser_obj)\n",
    "\n",
    "df_obj = pd.DataFrame(np.random.randn(3, 4) - 10)\n",
    "print(df_obj)"
   ]
  },
  {
   "cell_type": "code",
   "execution_count": 6,
   "metadata": {
    "collapsed": false
   },
   "outputs": [
    {
     "name": "stdout",
     "output_type": "stream",
     "text": [
      "145\n",
      "           0          1          2          3\n",
      "0  10.716155  11.340276   8.196304   9.442813\n",
      "1  10.781177  10.671547   9.753840   9.602143\n",
      "2   8.772428   9.804794  10.852700  10.429130\n"
     ]
    }
   ],
   "source": [
    "print(np.sum(ser_obj))\n",
    "print(np.abs(df_obj))"
   ]
  },
  {
   "cell_type": "markdown",
   "metadata": {},
   "source": [
    "## 2. 通过高阶函数来调用 自定义函数"
   ]
  },
  {
   "cell_type": "markdown",
   "metadata": {},
   "source": [
    "#### apply  可以将某个函数应用Series的每个元素，或者是 DataFrame的 行或列上"
   ]
  },
  {
   "cell_type": "code",
   "execution_count": 21,
   "metadata": {
    "collapsed": false
   },
   "outputs": [
    {
     "name": "stdout",
     "output_type": "stream",
     "text": [
      "0    11\n",
      "1    12\n",
      "2    13\n",
      "3    14\n",
      "4    15\n",
      "5    16\n",
      "6    17\n",
      "7    18\n",
      "8    19\n",
      "9    20\n",
      "dtype: int64\n"
     ]
    }
   ],
   "source": [
    "print(ser_obj.apply(lambda x : x + 1))"
   ]
  },
  {
   "cell_type": "code",
   "execution_count": 24,
   "metadata": {
    "collapsed": false
   },
   "outputs": [
    {
     "name": "stdout",
     "output_type": "stream",
     "text": [
      "           0          1          2          3\n",
      "0 -10.716155 -11.340276  -8.196304  -9.442813\n",
      "1 -10.781177 -10.671547  -9.753840  -9.602143\n",
      "2  -8.772428  -9.804794 -10.852700 -10.429130\n",
      "------------------------------\n",
      "0   -8.772428\n",
      "1   -9.804794\n",
      "2   -8.196304\n",
      "3   -9.442813\n",
      "dtype: float64\n",
      "------------------------------\n",
      "0   -8.196304\n",
      "1   -9.602143\n",
      "2   -8.772428\n",
      "dtype: float64\n"
     ]
    }
   ],
   "source": [
    "print(df_obj)\n",
    "print(\"------\" * 5)\n",
    "func = lambda x : x.max()\n",
    "# apply方法默认是对每一列进行操作\n",
    "print(df_obj.apply(func))\n",
    "print(\"------\" * 5)\n",
    "\n",
    "# axis 值默认为 0，方向是列； 值为1，方向是行\n",
    "print(df_obj.apply(func, axis = 1))"
   ]
  },
  {
   "cell_type": "markdown",
   "metadata": {},
   "source": [
    "#### applymap() 对DataFrame对象的所有元素操作"
   ]
  },
  {
   "cell_type": "code",
   "execution_count": 27,
   "metadata": {
    "collapsed": false
   },
   "outputs": [
    {
     "name": "stdout",
     "output_type": "stream",
     "text": [
      "           0          1          2          3\n",
      "0 -21.432310 -22.680552 -16.392608 -18.885625\n",
      "1 -21.562354 -21.343095 -19.507681 -19.204285\n",
      "2 -17.544855 -19.609589 -21.705399 -20.858260\n"
     ]
    }
   ],
   "source": [
    "func2 = lambda x : x + x\n",
    "print(df_obj.applymap(func2))\n",
    "\n",
    "#  applymap() 方法只能用于DataFrame对象，Series对象不适用\n",
    "#print(ser_obj.applymap(func2))"
   ]
  },
  {
   "cell_type": "markdown",
   "metadata": {},
   "source": [
    "- DataFrame对象可以用 apply() 和applymap() ,\n",
    "> apply() 应用于行、列，可以通过axis来指定\n",
    "> applymap() 应用于 每个元素\n",
    "\n",
    "- Series对象只能用apply，效果等用于Python的map()\n",
    "> ser_obj.map(func)\n",
    "> ser_obj.apply(func)"
   ]
  },
  {
   "cell_type": "markdown",
   "metadata": {},
   "source": [
    "## 3.排序函数"
   ]
  },
  {
   "cell_type": "markdown",
   "metadata": {},
   "source": [
    "#### 1. 按索引排序 : sort_index()"
   ]
  },
  {
   "cell_type": "code",
   "execution_count": 28,
   "metadata": {
    "collapsed": false
   },
   "outputs": [
    {
     "name": "stdout",
     "output_type": "stream",
     "text": [
      "12    10\n",
      "9     11\n",
      "10    12\n",
      "8     13\n",
      "2     14\n",
      "dtype: int32\n"
     ]
    }
   ],
   "source": [
    "# 1. Series 对象\n",
    "# 创建一个Series对象，索引是随机的5个数字，区间在 0 ~ 20　之间\n",
    "ser_obj2 = pd.Series(range(10, 15), index = np.random.randint(20, size=5))\n",
    "print(ser_obj2)"
   ]
  },
  {
   "cell_type": "code",
   "execution_count": 31,
   "metadata": {
    "collapsed": false
   },
   "outputs": [
    {
     "name": "stdout",
     "output_type": "stream",
     "text": [
      "2     14\n",
      "8     13\n",
      "9     11\n",
      "10    12\n",
      "12    10\n",
      "dtype: int32\n",
      "12    10\n",
      "10    12\n",
      "9     11\n",
      "8     13\n",
      "2     14\n",
      "dtype: int32\n"
     ]
    }
   ],
   "source": [
    "# sort_index() 默认按升序排序   ascending = True\n",
    "print(ser_obj2.sort_index())\n",
    "# ascending = False，则使用降序\n",
    "print(ser_obj2.sort_index(ascending = False))"
   ]
  },
  {
   "cell_type": "code",
   "execution_count": 34,
   "metadata": {
    "collapsed": false
   },
   "outputs": [
    {
     "name": "stdout",
     "output_type": "stream",
     "text": [
      "           0         2         8         7\n",
      "10  0.050950  0.386115  0.757430  0.785921\n",
      "7   0.188310  0.801549  0.290369  0.012829\n",
      "6   0.790393  0.847151  0.376773  0.104410\n"
     ]
    }
   ],
   "source": [
    "# 2. DataFrame对象，注意使用 axis参数来指定 排序的轴方向\n",
    "df_obj2 = pd.DataFrame(np.random.rand(3, 4), \n",
    "             index = np.random.randint(20, size= 3), \n",
    "             columns = np.random.randint(20, size = 4)\n",
    "        )\n",
    "print(df_obj2)"
   ]
  },
  {
   "cell_type": "code",
   "execution_count": 41,
   "metadata": {
    "collapsed": false
   },
   "outputs": [
    {
     "name": "stdout",
     "output_type": "stream",
     "text": [
      "           8         7         2         0\n",
      "10  0.757430  0.785921  0.386115  0.050950\n",
      "7   0.290369  0.012829  0.801549  0.188310\n",
      "6   0.376773  0.104410  0.847151  0.790393\n"
     ]
    }
   ],
   "source": [
    "# ascending 可以指定排序方式（升序/降序），axis 可以指定轴方向(行索引/列索引)\n",
    "print(df_obj2.sort_index(ascending= False, axis = 1))"
   ]
  },
  {
   "cell_type": "markdown",
   "metadata": {},
   "source": [
    "#### 2. 按值排序 sort_values "
   ]
  },
  {
   "cell_type": "code",
   "execution_count": 45,
   "metadata": {
    "collapsed": false
   },
   "outputs": [
    {
     "name": "stdout",
     "output_type": "stream",
     "text": [
      "4    18\n",
      "9    17\n",
      "8    15\n",
      "2    15\n",
      "0    15\n",
      "5    14\n",
      "3    14\n",
      "6    12\n",
      "7    10\n",
      "1    10\n",
      "dtype: int32\n"
     ]
    }
   ],
   "source": [
    "# 1. Series \n",
    "ser_obj3 = pd.Series(np.random.randint(10, 20, size=10))\n",
    "#print(ser_obj3)\n",
    "\n",
    "# 默认按升序排序\n",
    "print(ser_obj3.sort_values())\n",
    "#指定 ascending = False 为降序\n",
    "print(ser_obj3.sort_values(ascending=False))"
   ]
  },
  {
   "cell_type": "code",
   "execution_count": 46,
   "metadata": {
    "collapsed": false
   },
   "outputs": [
    {
     "name": "stdout",
     "output_type": "stream",
     "text": [
      "           0         2         8         7\n",
      "10  0.050950  0.386115  0.757430  0.785921\n",
      "7   0.188310  0.801549  0.290369  0.012829\n",
      "6   0.790393  0.847151  0.376773  0.104410\n"
     ]
    }
   ],
   "source": [
    "# 2. DataFrame\n",
    "print(df_obj2)"
   ]
  },
  {
   "cell_type": "code",
   "execution_count": 50,
   "metadata": {
    "collapsed": false
   },
   "outputs": [
    {
     "name": "stdout",
     "output_type": "stream",
     "text": [
      "           7         8         0         2\n",
      "10  0.785921  0.757430  0.050950  0.386115\n",
      "7   0.012829  0.290369  0.188310  0.801549\n",
      "6   0.104410  0.376773  0.790393  0.847151\n"
     ]
    }
   ],
   "source": [
    "#对 DataFrame对象操作时，要指定按哪一个 行/列来排序，\n",
    "#　如果根据某一个行名／列名来排序时，要保证没有其他相同的行名／列名\n",
    "# 通过axis 来指定排序的轴方向\n",
    "\n",
    "# 注意：如果某一行/列的数据进行排序，则其他行列也会响应的改变位置\n",
    "print(df_obj2.sort_values(by=6, axis = 1))"
   ]
  },
  {
   "cell_type": "markdown",
   "metadata": {},
   "source": [
    "## 4. 处理缺失数据 NaN"
   ]
  },
  {
   "cell_type": "code",
   "execution_count": 54,
   "metadata": {
    "collapsed": false
   },
   "outputs": [
    {
     "name": "stdout",
     "output_type": "stream",
     "text": [
      "     0    1    2    3\n",
      "0  1.0  2.0  NaN  NaN\n",
      "1  NaN  3.0  4.0  NaN\n",
      "2  0.0  1.0  2.0  3.0\n"
     ]
    }
   ],
   "source": [
    "df_obj5 = pd.DataFrame([\n",
    "    [1, 2., np.nan, np.nan],\n",
    "    [np.nan, 3, 4, np.nan],\n",
    "    list(range(4))]\n",
    ")\n",
    "print(df_obj5)"
   ]
  },
  {
   "cell_type": "code",
   "execution_count": 56,
   "metadata": {
    "collapsed": false
   },
   "outputs": [
    {
     "name": "stdout",
     "output_type": "stream",
     "text": [
      "       0      1      2      3\n",
      "0  False  False   True   True\n",
      "1   True  False  False   True\n",
      "2  False  False  False  False\n"
     ]
    }
   ],
   "source": [
    "#### 1. isnull() 判断NaN值,如果是NaN则为True，否则为False\n",
    "print(df_obj5.isnull())"
   ]
  },
  {
   "cell_type": "code",
   "execution_count": 58,
   "metadata": {
    "collapsed": false
   },
   "outputs": [
    {
     "name": "stdout",
     "output_type": "stream",
     "text": [
      "     0    1    2    3\n",
      "2  0.0  1.0  2.0  3.0\n",
      "     1\n",
      "0  2.0\n",
      "1  3.0\n",
      "2  1.0\n"
     ]
    }
   ],
   "source": [
    "#### 2. dropna()   去除包含NaN的行/列，默认是去除行，axis = 1 时，则去除列\n",
    "print(df_obj5.dropna())\n",
    "print(df_obj5.dropna(axis=1))"
   ]
  },
  {
   "cell_type": "code",
   "execution_count": 61,
   "metadata": {
    "collapsed": false
   },
   "outputs": [
    {
     "name": "stdout",
     "output_type": "stream",
     "text": [
      "     0    1    2    3\n",
      "0  1.0  2.0  0.0  0.0\n",
      "1  0.0  3.0  4.0  0.0\n",
      "2  0.0  1.0  2.0  3.0\n"
     ]
    }
   ],
   "source": [
    "#### 4. fillna()  将NaN值替换为指定的值\n",
    "print(df_obj5.fillna(0.))"
   ]
  },
  {
   "cell_type": "code",
   "execution_count": null,
   "metadata": {
    "collapsed": true
   },
   "outputs": [],
   "source": []
  },
  {
   "cell_type": "code",
   "execution_count": null,
   "metadata": {
    "collapsed": true
   },
   "outputs": [],
   "source": []
  },
  {
   "cell_type": "code",
   "execution_count": null,
   "metadata": {
    "collapsed": true
   },
   "outputs": [],
   "source": []
  }
 ],
 "metadata": {
  "kernelspec": {
   "display_name": "Python 3",
   "language": "python",
   "name": "python3"
  },
  "language_info": {
   "codemirror_mode": {
    "name": "ipython",
    "version": 3
   },
   "file_extension": ".py",
   "mimetype": "text/x-python",
   "name": "python",
   "nbconvert_exporter": "python",
   "pygments_lexer": "ipython3",
   "version": "3.6.0"
  }
 },
 "nbformat": 4,
 "nbformat_minor": 2
}
