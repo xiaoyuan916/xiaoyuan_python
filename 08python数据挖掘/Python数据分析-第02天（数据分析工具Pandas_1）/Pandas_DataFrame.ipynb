{
 "cells": [
  {
   "cell_type": "markdown",
   "metadata": {},
   "source": [
    "## DataFrame 数据结构"
   ]
  },
  {
   "cell_type": "code",
   "execution_count": 1,
   "metadata": {
    "collapsed": true
   },
   "outputs": [],
   "source": [
    "import pandas as pd\n",
    "import numpy as np"
   ]
  },
  {
   "cell_type": "markdown",
   "metadata": {},
   "source": [
    "#### 1. 通过 ndarray构建DataFrame对象"
   ]
  },
  {
   "cell_type": "code",
   "execution_count": 2,
   "metadata": {
    "collapsed": false
   },
   "outputs": [
    {
     "name": "stdout",
     "output_type": "stream",
     "text": [
      "[[ 0.63142018  0.40399522  0.44070245  0.58114319]\n",
      " [ 0.82655924  0.5716437   0.20031657  0.20645792]\n",
      " [ 0.42643845  0.65572268  0.11973222  0.95861301]]\n"
     ]
    }
   ],
   "source": [
    "arr_obj = np.random.rand(3, 4)\n",
    "print(arr_obj)"
   ]
  },
  {
   "cell_type": "code",
   "execution_count": 4,
   "metadata": {
    "collapsed": false
   },
   "outputs": [
    {
     "name": "stdout",
     "output_type": "stream",
     "text": [
      "          0         1         2         3\n",
      "0  0.631420  0.403995  0.440702  0.581143\n",
      "1  0.826559  0.571644  0.200317  0.206458\n",
      "2  0.426438  0.655723  0.119732  0.958613\n",
      "          0         1         2         3\n",
      "0  0.631420  0.403995  0.440702  0.581143\n",
      "1  0.826559  0.571644  0.200317  0.206458\n"
     ]
    }
   ],
   "source": [
    "df_obj = pd.DataFrame(arr_obj)\n",
    "print(df_obj)\n",
    "print(df_obj.head(2))"
   ]
  },
  {
   "cell_type": "markdown",
   "metadata": {},
   "source": [
    "#### 2. 通过 dict 构建DataFrame对戏那个"
   ]
  },
  {
   "cell_type": "code",
   "execution_count": 17,
   "metadata": {
    "collapsed": false
   },
   "outputs": [],
   "source": [
    "dic = {\n",
    "    \"A\" : 1,\n",
    "    \"B\" : pd.Timestamp(\"20170426\"),\n",
    "    \"C\" : pd.Series(range(10, 14), dtype = \"float64\"),\n",
    "    \"D\" : [\"Python\", \"Java\", \"C++\", \"C\"],\n",
    "    \"E\" : np.array([3] * 4, dtype=\"int32\"),\n",
    "    \"F\" : \"ITCast\"\n",
    "}"
   ]
  },
  {
   "cell_type": "code",
   "execution_count": 18,
   "metadata": {
    "collapsed": false
   },
   "outputs": [
    {
     "name": "stdout",
     "output_type": "stream",
     "text": [
      "   A          B     C       D  E       F\n",
      "0  1 2017-04-26  10.0  Python  3  ITCast\n",
      "1  1 2017-04-26  11.0    Java  3  ITCast\n",
      "2  1 2017-04-26  12.0     C++  3  ITCast\n",
      "3  1 2017-04-26  13.0       C  3  ITCast\n"
     ]
    }
   ],
   "source": [
    "df_obj2 = pd.DataFrame(dic)\n",
    "print(df_obj2)"
   ]
  },
  {
   "cell_type": "code",
   "execution_count": 27,
   "metadata": {
    "collapsed": false
   },
   "outputs": [
    {
     "name": "stdout",
     "output_type": "stream",
     "text": [
      "C++\n",
      "C++\n"
     ]
    }
   ],
   "source": [
    "# 在DataFrame对象里找到指定的元素，先找列，再找行\n",
    "print(df_obj2['D'][2])\n",
    "print(df_obj2.D[2])"
   ]
  },
  {
   "cell_type": "code",
   "execution_count": 29,
   "metadata": {
    "collapsed": false
   },
   "outputs": [
    {
     "name": "stdout",
     "output_type": "stream",
     "text": [
      "   A          B     C       D  E       F     G\n",
      "0  1 2017-04-26  10.0  Python  3  ITCast  20.0\n",
      "1  1 2017-04-26  11.0    Java  3  ITCast  21.0\n",
      "2  1 2017-04-26  12.0     C++  3  ITCast  22.0\n",
      "3  1 2017-04-26  13.0       C  3  ITCast  23.0\n"
     ]
    }
   ],
   "source": [
    "# 新增加一列的数据，数据可以是和DataFrame对象的其他列运算后的数据\n",
    "df_obj2[\"G\"] = df_obj2[\"C\"] + 10\n",
    "print(df_obj2)"
   ]
  },
  {
   "cell_type": "code",
   "execution_count": 32,
   "metadata": {
    "collapsed": false
   },
   "outputs": [
    {
     "name": "stdout",
     "output_type": "stream",
     "text": [
      "   A          B     C       D       F     G\n",
      "0  1 2017-04-26  10.0  Python  ITCast  20.0\n",
      "1  1 2017-04-26  11.0    Java  ITCast  21.0\n",
      "2  1 2017-04-26  12.0     C++  ITCast  22.0\n",
      "3  1 2017-04-26  13.0       C  ITCast  23.0\n"
     ]
    }
   ],
   "source": [
    "# 通过del方法，指定删除一列的数据\n",
    "del(df_obj2['E'])\n",
    "print(df_obj2)"
   ]
  },
  {
   "cell_type": "code",
   "execution_count": null,
   "metadata": {
    "collapsed": true
   },
   "outputs": [],
   "source": []
  }
 ],
 "metadata": {
  "kernelspec": {
   "display_name": "Python 3",
   "language": "python",
   "name": "python3"
  },
  "language_info": {
   "codemirror_mode": {
    "name": "ipython",
    "version": 3
   },
   "file_extension": ".py",
   "mimetype": "text/x-python",
   "name": "python",
   "nbconvert_exporter": "python",
   "pygments_lexer": "ipython3",
   "version": "3.6.0"
  }
 },
 "nbformat": 4,
 "nbformat_minor": 2
}
