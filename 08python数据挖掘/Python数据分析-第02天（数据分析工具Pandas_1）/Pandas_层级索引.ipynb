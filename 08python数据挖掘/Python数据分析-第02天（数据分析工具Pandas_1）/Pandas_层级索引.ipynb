{
 "cells": [
  {
   "cell_type": "code",
   "execution_count": 1,
   "metadata": {
    "collapsed": true
   },
   "outputs": [],
   "source": [
    "import pandas as pd\n",
    "import numpy as np"
   ]
  },
  {
   "cell_type": "code",
   "execution_count": 17,
   "metadata": {
    "collapsed": false
   },
   "outputs": [
    {
     "name": "stdout",
     "output_type": "stream",
     "text": [
      "a  -10   10    0.747069\n",
      "c  -1    21    0.845805\n",
      "b   12   25   -0.446171\n",
      "a   0    20    1.163299\n",
      "b  -1    14    0.768818\n",
      "c   21   20    1.575345\n",
      "b   10   2    -0.523372\n",
      "c   11   16    1.610160\n",
      "a   21   11   -0.985933\n",
      "c  -11   9     1.011283\n",
      "a   18  -10   -0.092556\n",
      "b   26   0    -1.966101\n",
      "dtype: float64\n",
      "<class 'pandas.indexes.multi.MultiIndex'>\n"
     ]
    }
   ],
   "source": [
    "# 示例： 两层索引，外层为字母，内层为数字\n",
    "ser_obj = pd.Series(np.random.randn(12), index = [\n",
    "    ['a', 'c', 'b', 'a', 'b', 'c', 'b', 'c', 'a', 'c', 'a', 'b'],\n",
    "    [-10, -1, 12, 0, -1, 21, 10, 11, 21, -11, 18, 26],\n",
    "    [10, 21, 25, 20, 14, 20, 2, 16, 11, 9, -10, 0]\n",
    "])\n",
    "print(ser_obj)\n",
    "print(type(ser_obj.index))"
   ]
  },
  {
   "cell_type": "code",
   "execution_count": 21,
   "metadata": {
    "collapsed": false
   },
   "outputs": [
    {
     "name": "stdout",
     "output_type": "stream",
     "text": [
      "11    1.61016\n",
      "dtype: float64\n",
      "-0.523372122752\n"
     ]
    }
   ],
   "source": [
    "## 1. 选定外层\n",
    "print(ser_obj['b'])\n",
    "## 2. 选定内层\n",
    "print(ser_obj[:, 21])\n",
    "##　3. 选定更内层 \n",
    "print(ser_obj['c',:,16])\n",
    "## 3. 选定具体的值\n",
    "print(ser_obj['b',10, 2])"
   ]
  },
  {
   "cell_type": "code",
   "execution_count": 27,
   "metadata": {
    "collapsed": false
   },
   "outputs": [
    {
     "name": "stdout",
     "output_type": "stream",
     "text": [
      " 10  -10  a    0.747069\n",
      " 21  -1   c    0.845805\n",
      " 25   12  b   -0.446171\n",
      " 20   0   a    1.163299\n",
      " 14  -1   b    0.768818\n",
      " 20   21  c    1.575345\n",
      " 2    10  b   -0.523372\n",
      " 16   11  c    1.610160\n",
      " 11   21  a   -0.985933\n",
      " 9   -11  c    1.011283\n",
      "-10   18  a   -0.092556\n",
      " 0    26  b   -1.966101\n",
      "dtype: float64\n"
     ]
    }
   ],
   "source": [
    "# 4. 交换分层：swaplevel(),和最内层做交换\n",
    "# 默认处理的是最外层：\n",
    "# 参数为0：处理最外层\n",
    "# 参数为1；处理内层\n",
    "# 参数为2： 处理更内层\n",
    "# ....\n",
    "print(ser_obj.swaplevel(0))"
   ]
  },
  {
   "cell_type": "code",
   "execution_count": 31,
   "metadata": {
    "collapsed": false
   },
   "outputs": [
    {
     "name": "stdout",
     "output_type": "stream",
     "text": [
      "b   12   25   -0.446171\n",
      "c  -1    21    0.845805\n",
      "    21   20    1.575345\n",
      "a   0    20    1.163299\n",
      "c   11   16    1.610160\n",
      "b  -1    14    0.768818\n",
      "a   21   11   -0.985933\n",
      "   -10   10    0.747069\n",
      "c  -11   9     1.011283\n",
      "b   10   2    -0.523372\n",
      "    26   0    -1.966101\n",
      "a   18  -10   -0.092556\n",
      "dtype: float64\n"
     ]
    }
   ],
   "source": [
    "## 5. 层排序 sotrlevel() 默认是升序, ascending=False 指定为降序\n",
    "# 默认处理的是最外层：\n",
    "# 参数为0：处理最外层\n",
    "# 参数为1；处理内层\n",
    "# 参数为2： 处理更内层\n",
    "...\n",
    "print(ser_obj.sortlevel(2, ascending=False))"
   ]
  },
  {
   "cell_type": "code",
   "execution_count": 41,
   "metadata": {
    "collapsed": false
   },
   "outputs": [
    {
     "name": "stdout",
     "output_type": "stream",
     "text": [
      "                a         b         c\n",
      "-11  9        NaN       NaN  1.011283\n",
      "-10  10  0.747069       NaN       NaN\n",
      "-1   14       NaN  0.768818       NaN\n",
      "     21       NaN       NaN  0.845805\n",
      " 0   20  1.163299       NaN       NaN\n",
      " 10  2        NaN -0.523372       NaN\n",
      " 11  16       NaN       NaN  1.610160\n",
      " 12  25       NaN -0.446171       NaN\n",
      " 18 -10 -0.092556       NaN       NaN\n",
      " 21  11 -0.985933       NaN       NaN\n",
      "     20       NaN       NaN  1.575345\n",
      " 26  0        NaN -1.966101       NaN\n"
     ]
    }
   ],
   "source": [
    "print(ser_obj.unstack(0))"
   ]
  },
  {
   "cell_type": "code",
   "execution_count": 32,
   "metadata": {
    "collapsed": false
   },
   "outputs": [
    {
     "name": "stdout",
     "output_type": "stream",
     "text": [
      "a  0    1.257322\n",
      "   1   -1.301686\n",
      "   2    0.183763\n",
      "b  0   -0.632819\n",
      "   1   -3.184667\n",
      "   2    0.236516\n",
      "c  0    0.644591\n",
      "   1   -0.540329\n",
      "   2   -0.397273\n",
      "d  0    1.490602\n",
      "   1    0.210827\n",
      "   2    1.120366\n",
      "dtype: float64\n"
     ]
    }
   ],
   "source": [
    "ser_obj2 = pd.Series(np.random.randn(12), index = [\n",
    "    ['a', 'a', 'a', 'b', 'b', 'b', 'c', 'c', 'c', 'd', 'd', 'd'],\n",
    "    [0, 1, 2, 0, 1, 2, 0, 1, 2, 0, 1, 2]\n",
    "])\n",
    "print(ser_obj2)"
   ]
  },
  {
   "cell_type": "code",
   "execution_count": 36,
   "metadata": {
    "collapsed": false
   },
   "outputs": [
    {
     "name": "stdout",
     "output_type": "stream",
     "text": [
      "          a         b         c         d\n",
      "0  1.257322 -0.632819  0.644591  1.490602\n",
      "1 -1.301686 -3.184667 -0.540329  0.210827\n",
      "2  0.183763  0.236516 -0.397273  1.120366\n"
     ]
    }
   ],
   "source": [
    "## 6. unstack 将 Series -> DataFrame \n",
    "# 可以将 Series对象重构为DataFrame对象，参数可以指定处理的层索引\n",
    "df_obj = ser_obj2.unstack(0)\n",
    "print(df_obj)"
   ]
  },
  {
   "cell_type": "code",
   "execution_count": 37,
   "metadata": {
    "collapsed": false
   },
   "outputs": [
    {
     "name": "stdout",
     "output_type": "stream",
     "text": [
      "0  a    1.257322\n",
      "   b   -0.632819\n",
      "   c    0.644591\n",
      "   d    1.490602\n",
      "1  a   -1.301686\n",
      "   b   -3.184667\n",
      "   c   -0.540329\n",
      "   d    0.210827\n",
      "2  a    0.183763\n",
      "   b    0.236516\n",
      "   c   -0.397273\n",
      "   d    1.120366\n",
      "dtype: float64\n"
     ]
    }
   ],
   "source": [
    "## 7. stack() 将 DataFrame -> Series\n",
    "# 可以将DataFrame对象重构为Series对象，参数可以指定处理的层索引\n",
    "print(df_obj.stack())"
   ]
  },
  {
   "cell_type": "code",
   "execution_count": null,
   "metadata": {
    "collapsed": true
   },
   "outputs": [],
   "source": []
  }
 ],
 "metadata": {
  "kernelspec": {
   "display_name": "Python 3",
   "language": "python",
   "name": "python3"
  },
  "language_info": {
   "codemirror_mode": {
    "name": "ipython",
    "version": 3
   },
   "file_extension": ".py",
   "mimetype": "text/x-python",
   "name": "python",
   "nbconvert_exporter": "python",
   "pygments_lexer": "ipython3",
   "version": "3.6.0"
  }
 },
 "nbformat": 4,
 "nbformat_minor": 2
}
