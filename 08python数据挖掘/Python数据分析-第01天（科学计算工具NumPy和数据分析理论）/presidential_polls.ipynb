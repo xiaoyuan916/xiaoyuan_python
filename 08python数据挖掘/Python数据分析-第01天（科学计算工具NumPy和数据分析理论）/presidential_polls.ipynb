{
 "cells": [
  {
   "cell_type": "code",
   "execution_count": 1,
   "metadata": {
    "collapsed": true
   },
   "outputs": [],
   "source": [
    "import numpy as np"
   ]
  },
  {
   "cell_type": "markdown",
   "metadata": {},
   "source": [
    "## loadtxt"
   ]
  },
  {
   "cell_type": "code",
   "execution_count": 2,
   "metadata": {
    "collapsed": true
   },
   "outputs": [],
   "source": [
    "filename = \"./presidential_polls.csv\""
   ]
  },
  {
   "cell_type": "code",
   "execution_count": 3,
   "metadata": {
    "collapsed": true
   },
   "outputs": [],
   "source": [
    "data_arr = np.loadtxt(filename, # 需要打开的csv文件的文件名\n",
    "           delimiter = \",\", # csv文件的分隔符\n",
    "           dtype=str, # 数据是按编码后的字符串格式存储\n",
    "           usecols=(3, 17, 18, 19) # 表示读取文件里的列的索引位置\n",
    "          )"
   ]
  },
  {
   "cell_type": "code",
   "execution_count": 28,
   "metadata": {
    "collapsed": false
   },
   "outputs": [
    {
     "name": "stdout",
     "output_type": "stream",
     "text": [
      "[[\"b'42.6414'\" \"b'40.86509'\" \"b'5.675099'\"]\n",
      " [\"b'43.29659'\" \"b'44.72984'\" \"b'3.401513'\"]\n",
      " [\"b'46.29779'\" \"b'40.72604'\" \"b'6.401513'\"]\n",
      " ..., \n",
      " [\"b'45.9713'\" \"b'39.97518'\" \"b''\"]\n",
      " [\"b'45.2939'\" \"b'46.66175'\" \"b'1.596946'\"]\n",
      " [\"b'31.62721'\" \"b'44.65947'\" \"b''\"]]\n"
     ]
    }
   ],
   "source": [
    "#print(data_arr)\n",
    "#data = data_arr[1, 2]\n",
    "#print(data)\n",
    "#data = data[2:-1]\n",
    "#print(float(data))\n",
    "\"\"\"\n",
    "newdata_arr = data_arr[1: ,1:4]\n",
    "for i in newdata_arr:\n",
    "    for data in i:\n",
    "        data = data[2:-1]\n",
    "\"\"\"\n",
    "#print(np.sum(data_arr[1:, 2:3]))"
   ]
  },
  {
   "cell_type": "markdown",
   "metadata": {},
   "source": [
    "## genfromtxt"
   ]
  },
  {
   "cell_type": "code",
   "execution_count": 29,
   "metadata": {
    "collapsed": true
   },
   "outputs": [],
   "source": [
    "filename = \"./presidential_polls.csv\""
   ]
  },
  {
   "cell_type": "code",
   "execution_count": 62,
   "metadata": {
    "collapsed": false
   },
   "outputs": [],
   "source": [
    "data_arr = np.genfromtxt(filename, # 需要打开的csv文件的文件名\n",
    "           delimiter = \",\", # csv文件的分隔符\n",
    "           dtype=str, # 按字符串存储数据，不在转换为字节码\n",
    "           usecols=(3, 17, 18, 19) # 表示读取文件里的列的索引位置\n",
    "          )"
   ]
  },
  {
   "cell_type": "code",
   "execution_count": 63,
   "metadata": {
    "collapsed": false
   },
   "outputs": [
    {
     "name": "stdout",
     "output_type": "stream",
     "text": [
      "[['matchup' 'adjpoll_clinton' 'adjpoll_trump' 'adjpoll_johnson']\n",
      " ['\"Clinton vs. Trump vs. Johnson\"' '42.6414' '40.86509' '5.675099']\n",
      " ['\"Clinton vs. Trump vs. Johnson\"' '43.29659' '44.72984' '3.401513']\n",
      " ..., \n",
      " ['\"Clinton vs. Trump vs. Johnson\"' '45.9713' '39.97518' '']\n",
      " ['\"Clinton vs. Trump vs. Johnson\"' '45.2939' '46.66175' '1.596946']\n",
      " ['\"Clinton vs. Trump vs. Johnson\"' '31.62721' '44.65947' '']]\n"
     ]
    }
   ],
   "source": [
    "print(data_arr)"
   ]
  },
  {
   "cell_type": "code",
   "execution_count": 58,
   "metadata": {
    "collapsed": false
   },
   "outputs": [
    {
     "name": "stdout",
     "output_type": "stream",
     "text": [
      "[[ 43.29659  44.72984]\n",
      " [ 46.29779  40.72604]\n",
      " [ 46.35931  45.30585]\n",
      " [ 45.32744  42.20888]\n",
      " [ 44.6508   42.26663]\n",
      " [ 46.21834  43.56017]\n",
      " [ 46.89049  43.50333]\n",
      " [ 41.22576  37.24948]]\n"
     ]
    }
   ],
   "source": [
    "#print(data_arr)\n",
    "newdata_arr = data_arr[1:, 1:3] # 取出数据部分，第2行开始，第1列~第3列结束\n",
    "newdata_arr = newdata_arr[1:9]  # 取出数据部分的1~9 行部分\n",
    "newdata_arr = newdata_arr.astype(np.float64) # 把字符串数据部分转换为 float64 类型\n",
    "print(newdata_arr) "
   ]
  },
  {
   "cell_type": "code",
   "execution_count": 56,
   "metadata": {
    "collapsed": false
   },
   "outputs": [
    {
     "data": {
      "text/plain": [
       "360.26652000000001"
      ]
     },
     "execution_count": 56,
     "metadata": {},
     "output_type": "execute_result"
    }
   ],
   "source": [
    "np.sum(newdata_arr[:,:1]) # 统计出所有行的 第1列的数据总和"
   ]
  },
  {
   "cell_type": "code",
   "execution_count": null,
   "metadata": {
    "collapsed": true
   },
   "outputs": [],
   "source": []
  },
  {
   "cell_type": "code",
   "execution_count": null,
   "metadata": {
    "collapsed": true
   },
   "outputs": [],
   "source": []
  },
  {
   "cell_type": "code",
   "execution_count": null,
   "metadata": {
    "collapsed": true
   },
   "outputs": [],
   "source": []
  }
 ],
 "metadata": {
  "kernelspec": {
   "display_name": "Python 3",
   "language": "python",
   "name": "python3"
  },
  "language_info": {
   "codemirror_mode": {
    "name": "ipython",
    "version": 3
   },
   "file_extension": ".py",
   "mimetype": "text/x-python",
   "name": "python",
   "nbconvert_exporter": "python",
   "pygments_lexer": "ipython3",
   "version": "3.6.0"
  }
 },
 "nbformat": 4,
 "nbformat_minor": 2
}
