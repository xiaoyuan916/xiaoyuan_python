{
 "cells": [
  {
   "cell_type": "code",
   "execution_count": 2,
   "metadata": {
    "collapsed": true
   },
   "outputs": [],
   "source": [
    "import numpy as np"
   ]
  },
  {
   "cell_type": "code",
   "execution_count": 3,
   "metadata": {
    "collapsed": false
   },
   "outputs": [
    {
     "data": {
      "text/plain": [
       "array([[-0.88890007,  0.43451555, -0.32082365, -0.66832376],\n",
       "       [ 1.21584378, -1.1086847 ,  0.28206634,  0.81483576],\n",
       "       [ 1.19277385, -1.30662326, -0.52841719,  0.60418654]])"
      ]
     },
     "execution_count": 3,
     "metadata": {},
     "output_type": "execute_result"
    }
   ],
   "source": [
    "arr = np.random.randn(3, 4)\n",
    "arr"
   ]
  },
  {
   "cell_type": "code",
   "execution_count": 4,
   "metadata": {
    "collapsed": false
   },
   "outputs": [
    {
     "name": "stdout",
     "output_type": "stream",
     "text": [
      "[[-0.  1. -0. -0.]\n",
      " [ 2. -1.  1.  1.]\n",
      " [ 2. -1. -0.  1.]]\n"
     ]
    }
   ],
   "source": [
    "# 取最接近的比自己大的整数\n",
    "print(np.ceil(arr))"
   ]
  },
  {
   "cell_type": "code",
   "execution_count": 5,
   "metadata": {
    "collapsed": false
   },
   "outputs": [
    {
     "name": "stdout",
     "output_type": "stream",
     "text": [
      "[[-1.  0. -1. -1.]\n",
      " [ 1. -2.  0.  0.]\n",
      " [ 1. -2. -1.  0.]]\n"
     ]
    }
   ],
   "source": [
    "# 取最接近的比自己小的整数\n",
    "print(np.floor(arr))"
   ]
  },
  {
   "cell_type": "code",
   "execution_count": 6,
   "metadata": {
    "collapsed": false
   },
   "outputs": [
    {
     "name": "stdout",
     "output_type": "stream",
     "text": [
      "[[-1.  0. -0. -1.]\n",
      " [ 1. -1.  0.  1.]\n",
      " [ 1. -1. -1.  1.]]\n"
     ]
    }
   ],
   "source": [
    "# 四舍五入\n",
    "print(np.rint(arr))"
   ]
  },
  {
   "cell_type": "code",
   "execution_count": 8,
   "metadata": {
    "collapsed": false
   },
   "outputs": [
    {
     "name": "stdout",
     "output_type": "stream",
     "text": [
      "[[ 0.88890007  0.43451555  0.32082365  0.66832376]\n",
      " [ 1.21584378  1.1086847   0.28206634  0.81483576]\n",
      " [ 1.19277385  1.30662326  0.52841719  0.60418654]]\n"
     ]
    }
   ],
   "source": [
    "# 取每个元素的绝对值\n",
    "print(np.abs(arr))"
   ]
  },
  {
   "cell_type": "code",
   "execution_count": 15,
   "metadata": {
    "collapsed": false
   },
   "outputs": [
    {
     "name": "stdout",
     "output_type": "stream",
     "text": [
      "[[False False False False]\n",
      " [False False False False]\n",
      " [False False False False]]\n"
     ]
    }
   ],
   "source": [
    "#nan = not a number 表示不是一个可以用来计算的数值\n",
    "# 可以创建一个 nan 数值\n",
    "num = np.nan\n",
    "print(np.isnan(arr))\n",
    "print(np.isnan(num))\n",
    "\n"
   ]
  },
  {
   "cell_type": "code",
   "execution_count": 20,
   "metadata": {
    "collapsed": false
   },
   "outputs": [
    {
     "name": "stdout",
     "output_type": "stream",
     "text": [
      "[[-0.88890007  0.43451555 -0.32082365 -0.66832376]\n",
      " [ 1.21584378 -1.1086847   0.28206634  0.81483576]\n",
      " [ 1.19277385 -1.30662326 -0.52841719  0.60418654]]\n",
      "[[ 0.79014334  0.18880376  0.10292781  0.44665664]\n",
      " [ 1.4782761   1.22918175  0.07956142  0.66395732]\n",
      " [ 1.42270947  1.70726435  0.27922473  0.36504138]]\n",
      "0.262528449667\n"
     ]
    }
   ],
   "source": [
    "# 数组和数组之间每个元素相乘，返回计算后的数组\n",
    "# 参数可以是数组，也可以是数字\n",
    "print(arr)\n",
    "print(np.multiply(arr, arr))\n",
    "print(np.multiply(arr[2, 3], arr[0, 1]))"
   ]
  },
  {
   "cell_type": "code",
   "execution_count": 23,
   "metadata": {
    "collapsed": false
   },
   "outputs": [
    {
     "name": "stdout",
     "output_type": "stream",
     "text": [
      "[[ 1.  1.  1.  1.]\n",
      " [ 1.  1.  1.  1.]\n",
      " [ 1.  1.  1.  1.]]\n",
      "-1.88323569173\n"
     ]
    }
   ],
   "source": [
    "# 相除\n",
    "print(np.divide(arr, arr))\n",
    "print(np.divide(arr[2,3], arr[0,2]))"
   ]
  },
  {
   "cell_type": "code",
   "execution_count": 26,
   "metadata": {
    "collapsed": false
   },
   "outputs": [
    {
     "name": "stdout",
     "output_type": "stream",
     "text": [
      "[[-1  0 -1 -1]\n",
      " [ 0 -1  0  0]\n",
      " [ 0 -1 -1  0]]\n"
     ]
    }
   ],
   "source": [
    "# 三目运算符， 三元运算符\n",
    "# 包含三个参数，第一个参数是条件语句，第二个参数是条件为真的返回值，第三个参数是条件为假时候的返回值\n",
    "# 返回值用来替换原数组的元素\n",
    "print(np.where(arr < 0, -1, 0))"
   ]
  },
  {
   "cell_type": "markdown",
   "metadata": {},
   "source": [
    "## ndarray的统计函数"
   ]
  },
  {
   "cell_type": "code",
   "execution_count": 43,
   "metadata": {
    "collapsed": false
   },
   "outputs": [
    {
     "name": "stdout",
     "output_type": "stream",
     "text": [
      "[[7 5 9 7]\n",
      " [2 3 4 1]\n",
      " [9 8 6 9]]\n"
     ]
    }
   ],
   "source": [
    "arr = np.random.randint(0, 10, (3, 4))\n",
    "print(arr)"
   ]
  },
  {
   "cell_type": "code",
   "execution_count": 28,
   "metadata": {
    "collapsed": false
   },
   "outputs": [
    {
     "name": "stdout",
     "output_type": "stream",
     "text": [
      "4.91666666667\n"
     ]
    }
   ],
   "source": [
    "# 求数组里所有元素的平均值\n",
    "print(np.mean(arr))"
   ]
  },
  {
   "cell_type": "code",
   "execution_count": 29,
   "metadata": {
    "collapsed": false
   },
   "outputs": [
    {
     "name": "stdout",
     "output_type": "stream",
     "text": [
      "59\n"
     ]
    }
   ],
   "source": [
    "# 求数组里所有元素的和\n",
    "print(np.sum(arr))"
   ]
  },
  {
   "cell_type": "code",
   "execution_count": 30,
   "metadata": {
    "collapsed": false
   },
   "outputs": [
    {
     "name": "stdout",
     "output_type": "stream",
     "text": [
      "9\n"
     ]
    }
   ],
   "source": [
    "# 求数组里的最大值\n",
    "print(np.max(arr))"
   ]
  },
  {
   "cell_type": "code",
   "execution_count": 31,
   "metadata": {
    "collapsed": false
   },
   "outputs": [
    {
     "name": "stdout",
     "output_type": "stream",
     "text": [
      "0\n"
     ]
    }
   ],
   "source": [
    "# 求数组里的最小值\n",
    "print(np.min(arr))"
   ]
  },
  {
   "cell_type": "code",
   "execution_count": null,
   "metadata": {
    "collapsed": true
   },
   "outputs": [],
   "source": [
    "# 衡量数据和期望值之间的偏离值"
   ]
  },
  {
   "cell_type": "code",
   "execution_count": 32,
   "metadata": {
    "collapsed": false
   },
   "outputs": [
    {
     "name": "stdout",
     "output_type": "stream",
     "text": [
      "3.22641011377\n"
     ]
    }
   ],
   "source": [
    "# 标准差：所有元素分别和 平均数的差 的和 的平均数\n",
    "print(np.std(arr))"
   ]
  },
  {
   "cell_type": "code",
   "execution_count": 33,
   "metadata": {
    "collapsed": false
   },
   "outputs": [
    {
     "name": "stdout",
     "output_type": "stream",
     "text": [
      "10.4097222222\n"
     ]
    }
   ],
   "source": [
    "#方差：所有元素分别和 平均数的差 的平方 的和 的平均数\n",
    "print(np.var(arr))"
   ]
  },
  {
   "cell_type": "code",
   "execution_count": 45,
   "metadata": {
    "collapsed": false
   },
   "outputs": [
    {
     "name": "stdout",
     "output_type": "stream",
     "text": [
      "2\n"
     ]
    }
   ],
   "source": [
    "# 如果是多维数组，将多维合并为一维数组，再找到第一个最大值的索引下标\n",
    "# 如果是一维数组，则找到第一个最大值的索引下标\n",
    "print(np.argmax(arr))"
   ]
  },
  {
   "cell_type": "code",
   "execution_count": 46,
   "metadata": {
    "collapsed": false
   },
   "outputs": [
    {
     "name": "stdout",
     "output_type": "stream",
     "text": [
      "7\n"
     ]
    }
   ],
   "source": [
    "# 同上，求最小值的索引下标\n",
    "print(np.argmin(arr))"
   ]
  },
  {
   "cell_type": "code",
   "execution_count": 48,
   "metadata": {
    "collapsed": false
   },
   "outputs": [
    {
     "name": "stdout",
     "output_type": "stream",
     "text": [
      "[[7 5 9 7]\n",
      " [2 3 4 1]\n",
      " [9 8 6 9]]\n",
      "[ 7 12 21 28 30 33 37 38 47 55 61 70]\n"
     ]
    }
   ],
   "source": [
    "# 返回一个一维数组，数组的每个元素都是之前所有元素的累加的和\n",
    "print(arr)\n",
    "print(np.cumsum(arr))"
   ]
  },
  {
   "cell_type": "code",
   "execution_count": 49,
   "metadata": {
    "collapsed": false
   },
   "outputs": [
    {
     "name": "stdout",
     "output_type": "stream",
     "text": [
      "[        7        35       315      2205      4410     13230     52920\n",
      "     52920    476280   3810240  22861440 205752960]\n"
     ]
    }
   ],
   "source": [
    "# 返回一个一维数组，数组的每个元素都是之前所有元盛怒的累乘的积\n",
    "print(np.cumprod(arr))"
   ]
  },
  {
   "cell_type": "markdown",
   "metadata": {},
   "source": [
    "## 元素的判断函数"
   ]
  },
  {
   "cell_type": "code",
   "execution_count": 53,
   "metadata": {
    "collapsed": false
   },
   "outputs": [
    {
     "name": "stdout",
     "output_type": "stream",
     "text": [
      "[[ 0.09727262  0.37038754  0.19484122  0.58412112]\n",
      " [ 0.8478192   0.70669709  0.76153685  0.08019947]\n",
      " [ 0.3421466   0.67078059  0.70866418  0.31219444]]\n"
     ]
    }
   ],
   "source": [
    "arr = np.random.rand(3, 4)\n",
    "print(arr)"
   ]
  },
  {
   "cell_type": "code",
   "execution_count": 54,
   "metadata": {
    "collapsed": false
   },
   "outputs": [
    {
     "name": "stdout",
     "output_type": "stream",
     "text": [
      "True\n"
     ]
    }
   ],
   "source": [
    "# 数组里有任意一个元素满足条件，返回True\n",
    "print(np.any(arr > 0.5))"
   ]
  },
  {
   "cell_type": "code",
   "execution_count": 55,
   "metadata": {
    "collapsed": false
   },
   "outputs": [
    {
     "name": "stdout",
     "output_type": "stream",
     "text": [
      "False\n"
     ]
    }
   ],
   "source": [
    "# 数组里所有元素满足条件，返回True\n",
    "print(np.all(arr > 0.5))"
   ]
  },
  {
   "cell_type": "code",
   "execution_count": null,
   "metadata": {
    "collapsed": true
   },
   "outputs": [],
   "source": []
  }
 ],
 "metadata": {
  "kernelspec": {
   "display_name": "Python 3",
   "language": "python",
   "name": "python3"
  },
  "language_info": {
   "codemirror_mode": {
    "name": "ipython",
    "version": 3
   },
   "file_extension": ".py",
   "mimetype": "text/x-python",
   "name": "python",
   "nbconvert_exporter": "python",
   "pygments_lexer": "ipython3",
   "version": "3.6.0"
  }
 },
 "nbformat": 4,
 "nbformat_minor": 2
}
