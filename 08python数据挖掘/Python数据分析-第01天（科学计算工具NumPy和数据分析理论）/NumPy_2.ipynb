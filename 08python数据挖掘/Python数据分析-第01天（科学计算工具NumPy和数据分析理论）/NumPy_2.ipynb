{
 "cells": [
  {
   "cell_type": "markdown",
   "metadata": {},
   "source": [
    "## ndarray的矩阵运算"
   ]
  },
  {
   "cell_type": "code",
   "execution_count": 1,
   "metadata": {
    "collapsed": true
   },
   "outputs": [],
   "source": [
    "import numpy as np"
   ]
  },
  {
   "cell_type": "code",
   "execution_count": 2,
   "metadata": {
    "collapsed": false
   },
   "outputs": [
    {
     "name": "stdout",
     "output_type": "stream",
     "text": [
      "[0 1 2 3 4 5 6 7 8 9]\n"
     ]
    }
   ],
   "source": [
    "arr = np.arange(10)\n",
    "print(arr)"
   ]
  },
  {
   "cell_type": "code",
   "execution_count": 5,
   "metadata": {
    "collapsed": false
   },
   "outputs": [
    {
     "name": "stdout",
     "output_type": "stream",
     "text": [
      "[ 0  1  4  9 16 25 36 49 64 81]\n",
      "[ 0  2  4  6  8 10 12 14 16 18]\n"
     ]
    }
   ],
   "source": [
    "# 矩阵之间的运算，是按矩阵级的运算，每一个元素和对应索引的运算进行运算\n",
    "print(arr * arr)\n",
    "print(arr + arr)"
   ]
  },
  {
   "cell_type": "code",
   "execution_count": 8,
   "metadata": {
    "collapsed": false
   },
   "outputs": [
    {
     "name": "stdout",
     "output_type": "stream",
     "text": [
      "[  1.   2.   3.   4.   5.   6.   7.   8.   9.  10.]\n",
      "[ 0  2  4  6  8 10 12 14 16 18]\n"
     ]
    }
   ],
   "source": [
    "# 广播运算，将标量广播到数组的各个元素上\n",
    "print(1. + arr)\n",
    "print(2 * arr)"
   ]
  },
  {
   "cell_type": "markdown",
   "metadata": {},
   "source": [
    "## ndarray 的切片、索引操作"
   ]
  },
  {
   "cell_type": "code",
   "execution_count": 10,
   "metadata": {
    "collapsed": false
   },
   "outputs": [
    {
     "name": "stdout",
     "output_type": "stream",
     "text": [
      "[0 1 2 3 4 5 6 7 8 9]\n",
      "[5 6 7 8]\n"
     ]
    }
   ],
   "source": [
    "#1. 一维数组的索引和切片操作\n",
    "arr1 = np.arange(10)\n",
    "print(arr1)\n",
    "print(arr1[5:9])"
   ]
  },
  {
   "cell_type": "code",
   "execution_count": 21,
   "metadata": {
    "collapsed": false
   },
   "outputs": [
    {
     "name": "stdout",
     "output_type": "stream",
     "text": [
      "[[0 1 2 3 4]\n",
      " [5 6 7 8 9]]\n",
      "[5 6 7]\n",
      "[[0 1 2]\n",
      " [5 6 7]]\n"
     ]
    }
   ],
   "source": [
    "# 2. 多维数组的索引和切片操作\n",
    "#lis = range(10)\n",
    "#arr3 = np.array([lis, lis])\n",
    "#print(arr3)\n",
    "arr2 = np.arange(10).reshape(2, 5)\n",
    "print(arr2)\n",
    "# 二维数组的索引和切片操作，[] 里第一个数字表示行所在的索引，第二个数字表示列所在的索引\n",
    "print(arr2[1, :3])\n",
    "# 如果某个数字只有 一个 ： 那就表示全部匹配\n",
    "print(arr2[:, :3])"
   ]
  },
  {
   "cell_type": "markdown",
   "metadata": {},
   "source": [
    "## ndarray 的条件索引"
   ]
  },
  {
   "cell_type": "code",
   "execution_count": 22,
   "metadata": {
    "collapsed": false
   },
   "outputs": [
    {
     "name": "stdout",
     "output_type": "stream",
     "text": [
      "[[2010 2011 2012]\n",
      " [2001 2002 2003]\n",
      " [2015 2016 2017]]\n"
     ]
    }
   ],
   "source": [
    "1. \n",
    "year_arr = np.array([[2010, 2011, 2012],[2001, 2002, 2003],[ 2015, 2016, 2017]])\n",
    "print(year_arr)"
   ]
  },
  {
   "cell_type": "code",
   "execution_count": 24,
   "metadata": {
    "collapsed": false
   },
   "outputs": [
    {
     "name": "stdout",
     "output_type": "stream",
     "text": [
      "[[ True  True  True]\n",
      " [False False False]\n",
      " [ True  True  True]]\n"
     ]
    }
   ],
   "source": [
    "# 将数组的每个元素和条件进行匹配，返回每个元素的匹配结果，是bool值\n",
    "after2005_year = year_arr > 2005\n",
    "print(after2005_year)"
   ]
  },
  {
   "cell_type": "code",
   "execution_count": 25,
   "metadata": {
    "collapsed": false
   },
   "outputs": [
    {
     "name": "stdout",
     "output_type": "stream",
     "text": [
      "[[-0.37791219 -0.64637402 -0.59096287]\n",
      " [-1.02730703  0.02857597  0.71432543]\n",
      " [-0.72702708 -0.39139429 -0.30935388]]\n"
     ]
    }
   ],
   "source": [
    "arr2 = np.random.randn(3, 3)\n",
    "print(arr2)"
   ]
  },
  {
   "cell_type": "code",
   "execution_count": 26,
   "metadata": {
    "collapsed": false
   },
   "outputs": [
    {
     "name": "stdout",
     "output_type": "stream",
     "text": [
      "[-0.37791219 -0.64637402 -0.59096287 -0.72702708 -0.39139429 -0.30935388]\n"
     ]
    }
   ],
   "source": [
    "# 将bool数组 映射到arr2里，返回匹配为True的数值，返回的一维数组\n",
    "new_arr2 = arr2[after2005_year]\n",
    "print(new_arr2)"
   ]
  },
  {
   "cell_type": "code",
   "execution_count": 31,
   "metadata": {
    "collapsed": false
   },
   "outputs": [
    {
     "name": "stdout",
     "output_type": "stream",
     "text": [
      "[-0.37791219 -0.64637402 -0.59096287]\n"
     ]
    }
   ],
   "source": [
    "# 2. 可以同时指定多个条件索引，& 表示所有条件都符合，结果才为True; | 表示只要有一个条件符合，结果就为True\n",
    "# 示例中：将多个条件索引返回的匹配结果，映射到新的数组上，返回匹配为True 的值，的一维数组\n",
    "new_arr2 = arr2[(year_arr > 2005) & (year_arr < 2015)]\n",
    "print(new_arr2)"
   ]
  },
  {
   "cell_type": "markdown",
   "metadata": {},
   "source": [
    "## ndarray的维数转换  transpose()"
   ]
  },
  {
   "cell_type": "code",
   "execution_count": 41,
   "metadata": {
    "collapsed": false
   },
   "outputs": [
    {
     "name": "stdout",
     "output_type": "stream",
     "text": [
      "[[ 0.16999083  0.50601716  0.28392081  0.70684008]\n",
      " [ 0.90124598  0.21389049  0.7387991   0.33142345]\n",
      " [ 0.87686092  0.63811256  0.48762832  0.27096743]]\n",
      "-----\n",
      "[[ 0.16999083  0.90124598  0.87686092]\n",
      " [ 0.50601716  0.21389049  0.63811256]\n",
      " [ 0.28392081  0.7387991   0.48762832]\n",
      " [ 0.70684008  0.33142345  0.27096743]]\n"
     ]
    }
   ],
   "source": [
    "# transponse() 将转换原数组的维度，如果是二维数组不需要指定参数\n",
    "arr2 = np.random.rand(3, 4)\n",
    "print(arr)\n",
    "print(\"-----\")\n",
    "print(arr.transpose())"
   ]
  },
  {
   "cell_type": "code",
   "execution_count": 40,
   "metadata": {
    "collapsed": false
   },
   "outputs": [
    {
     "name": "stdout",
     "output_type": "stream",
     "text": [
      "[[[ 0.61639457  0.84812496  0.19361102  0.31457818]\n",
      "  [ 0.62200312  0.92004099  0.23347049  0.35335469]\n",
      "  [ 0.86486317  0.79885837  0.34411033  0.41257462]]\n",
      "\n",
      " [[ 0.37305292  0.21077638  0.32414606  0.21110296]\n",
      "  [ 0.68084211  0.83998735  0.40823666  0.03573073]\n",
      "  [ 0.47724583  0.41015764  0.14933342  0.18136207]]]\n",
      "------\n",
      "[[[ 0.61639457  0.62200312  0.86486317]\n",
      "  [ 0.37305292  0.68084211  0.47724583]]\n",
      "\n",
      " [[ 0.84812496  0.92004099  0.79885837]\n",
      "  [ 0.21077638  0.83998735  0.41015764]]\n",
      "\n",
      " [[ 0.19361102  0.23347049  0.34411033]\n",
      "  [ 0.32414606  0.40823666  0.14933342]]\n",
      "\n",
      " [[ 0.31457818  0.35335469  0.41257462]\n",
      "  [ 0.21110296  0.03573073  0.18136207]]]\n"
     ]
    }
   ],
   "source": [
    "#如果是多维数组，如 3维数组，则transpose()里的参数是一个元组，元组的每个元素都是原数组维度数所在的索引的值\n",
    "# 4 对应索引是2， 3对应索引是1， 2对应索引是0， 则转换时写上索引即可\n",
    "arr3 = np.random.rand(2, 3, 4)\n",
    "print(arr3)\n",
    "print(\"------\")\n",
    "print(arr3.transpose((2, 0, 1)))"
   ]
  },
  {
   "cell_type": "code",
   "execution_count": null,
   "metadata": {
    "collapsed": true
   },
   "outputs": [],
   "source": []
  },
  {
   "cell_type": "code",
   "execution_count": null,
   "metadata": {
    "collapsed": true
   },
   "outputs": [],
   "source": []
  },
  {
   "cell_type": "code",
   "execution_count": null,
   "metadata": {
    "collapsed": true
   },
   "outputs": [],
   "source": []
  },
  {
   "cell_type": "code",
   "execution_count": null,
   "metadata": {
    "collapsed": true
   },
   "outputs": [],
   "source": []
  },
  {
   "cell_type": "code",
   "execution_count": null,
   "metadata": {
    "collapsed": true
   },
   "outputs": [],
   "source": []
  }
 ],
 "metadata": {
  "kernelspec": {
   "display_name": "Python 3",
   "language": "python",
   "name": "python3"
  },
  "language_info": {
   "codemirror_mode": {
    "name": "ipython",
    "version": 3
   },
   "file_extension": ".py",
   "mimetype": "text/x-python",
   "name": "python",
   "nbconvert_exporter": "python",
   "pygments_lexer": "ipython3",
   "version": "3.6.0"
  }
 },
 "nbformat": 4,
 "nbformat_minor": 2
}
