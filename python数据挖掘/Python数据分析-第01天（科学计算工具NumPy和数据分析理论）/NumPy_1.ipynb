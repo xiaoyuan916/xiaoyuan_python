{
 "cells": [
  {
   "cell_type": "markdown",
   "metadata": {},
   "source": [
    "## ndarray 的随机创建"
   ]
  },
  {
   "cell_type": "code",
   "execution_count": 50,
   "metadata": {
    "collapsed": true
   },
   "outputs": [],
   "source": [
    "# 导入numpy,别名是np\n",
    "import numpy as np\n",
    "\n",
    "# 导入matplotlib，别名plt\n",
    "import matplotlib.pyplot as plt"
   ]
  },
  {
   "cell_type": "code",
   "execution_count": 20,
   "metadata": {
    "collapsed": false,
    "scrolled": true
   },
   "outputs": [
    {
     "name": "stdout",
     "output_type": "stream",
     "text": [
      "[[ 0.22107398  0.71484805  0.8985325   0.1871831 ]\n",
      " [ 0.40095961  0.18651406  0.85371751  0.38446084]\n",
      " [ 0.37992371  0.62813441  0.05276292  0.21327295]]\n",
      "<class 'numpy.ndarray'>\n",
      "2\n",
      "(3, 4)\n",
      "float64\n"
     ]
    }
   ],
   "source": [
    "# random表示常见随机数，rand表示创建一个随机的浮点数数组，参数的个数表示数组维度的大小\n",
    "# 默认区间是 0.0 ~ 1.0 之间\n",
    "arr = np.random.rand(3, 4)\n",
    "print(arr)\n",
    "print(type(arr))\n",
    "# ndim 参数表示数组的维度\n",
    "print(arr.ndim)\n",
    "\n",
    "# shape 参数表示数据的大小\n",
    "print(arr.shape)\n",
    "\n",
    "# dtype表示每个数据的类型\n",
    "print(arr.dtype)"
   ]
  },
  {
   "cell_type": "code",
   "execution_count": 52,
   "metadata": {
    "collapsed": false,
    "scrolled": true
   },
   "outputs": [
    {
     "data": {
      "image/png": "[encoded data removed]",
      "text/plain": [
       "<matplotlib.figure.Figure at 0x2375791e6a0>"
      ]
     },
     "metadata": {},
     "output_type": "display_data"
    }
   ],
   "source": [
    "# 生成一个符合标准正态分布的随机抽样浮点数数组\n",
    "arr = np.random.randn(10000)\n",
    "#print(arr)\n",
    "plt.hist(arr, bins=100, color = \"red\", alpha= 0.5)\n",
    "plt.show()"
   ]
  },
  {
   "cell_type": "code",
   "execution_count": 33,
   "metadata": {
    "collapsed": false
   },
   "outputs": [
    {
     "name": "stdout",
     "output_type": "stream",
     "text": [
      "[[ 5 11  7  0]\n",
      " [-2 19 15  0]\n",
      " [13 -1 -1  9]]\n"
     ]
    }
   ],
   "source": [
    "# 创建一个3行4列的二维整数数组，每个元素的值的区间在 -10 ~ 20 之间\n",
    "arr = np.random.randint(-10, 20, size = (3, 4)) # size = 可以省略不写\n",
    "print(arr)"
   ]
  },
  {
   "cell_type": "code",
   "execution_count": 36,
   "metadata": {
    "collapsed": false
   },
   "outputs": [
    {
     "name": "stdout",
     "output_type": "stream",
     "text": [
      "[[ -3.61556012  -7.73512813  -1.01894879  -6.76173682]\n",
      " [ 11.45766784  15.96837897  -7.78356732  -6.30511836]\n",
      " [ -7.9828824   -5.32225819   8.07357217  -5.16835684]]\n"
     ]
    }
   ],
   "source": [
    "# 创建一个3行4列的二维浮点数数组，每个元素的值的区间在 -10 ~ 20 之间\n",
    "arr = np.random.uniform(-10, 20, (3, 4)) # size = 可以省略不写\n",
    "print(arr)"
   ]
  },
  {
   "cell_type": "markdown",
   "metadata": {},
   "source": [
    "## ndarray的序列创建"
   ]
  },
  {
   "cell_type": "code",
   "execution_count": 37,
   "metadata": {
    "collapsed": false
   },
   "outputs": [
    {
     "name": "stdout",
     "output_type": "stream",
     "text": [
      "[0 1 2 3 4 5 6 7 8 9]\n"
     ]
    }
   ],
   "source": [
    "# lis 是range类型，包含了 0 ~ 10 的数据的迭代器\n",
    "lis = range(10)\n",
    "#把  lis 做为np.array()的参数，则会创建一个包含 0 ~10 的10个元素的一维数组\n",
    "arr = np.array(lis)\n",
    "print(arr)"
   ]
  },
  {
   "cell_type": "code",
   "execution_count": 41,
   "metadata": {
    "collapsed": false
   },
   "outputs": [
    {
     "name": "stdout",
     "output_type": "stream",
     "text": [
      "[[[0 1 2 3 4 5 6 7 8 9]\n",
      "  [0 1 2 3 4 5 6 7 8 9]]\n",
      "\n",
      " [[0 1 2 3 4 5 6 7 8 9]\n",
      "  [0 1 2 3 4 5 6 7 8 9]]]\n"
     ]
    }
   ],
   "source": [
    "# array() 参数可以是多维的数组\n",
    "# 下面示例：表示创建了一个三维数组，数组里包含了两个二维数组，\n",
    "# 每个二维数组包含了两个一维数组，\n",
    "# 每个一维数组里包含了10个元素\n",
    "arr2 = np.array([[lis, lis],[lis, lis]])\n",
    "print(arr2)"
   ]
  },
  {
   "cell_type": "code",
   "execution_count": 60,
   "metadata": {
    "collapsed": false
   },
   "outputs": [
    {
     "name": "stdout",
     "output_type": "stream",
     "text": [
      "[[0 0 0 0]\n",
      " [0 0 0 0]\n",
      " [0 0 0 0]]\n",
      "int32\n"
     ]
    }
   ],
   "source": [
    "# 创建一个3行4列的二维数组，默认呢数组的每个元素都是float64类型的 0\n",
    "#　第二个参数可以指定数据类型\n",
    "arr3 = np.zeros((3, 4), int)\n",
    "print(arr3)\n",
    "print(arr3.dtype)"
   ]
  },
  {
   "cell_type": "code",
   "execution_count": 55,
   "metadata": {
    "collapsed": false
   },
   "outputs": [
    {
     "name": "stdout",
     "output_type": "stream",
     "text": [
      "[[1 1 1 1]\n",
      " [1 1 1 1]\n",
      " [1 1 1 1]]\n"
     ]
    }
   ],
   "source": [
    "# 创建一个3行4列的二维数组，默认数组的每个元素都是float64类型的 1\n",
    "# 第二个参数可以指定数据类型\n",
    "arr4= np.ones((3, 4), int)\n",
    "print(arr4)"
   ]
  },
  {
   "cell_type": "code",
   "execution_count": 58,
   "metadata": {
    "collapsed": false
   },
   "outputs": [
    {
     "name": "stdout",
     "output_type": "stream",
     "text": [
      "[[0 0 0 0]\n",
      " [0 0 0 0]\n",
      " [0 0 0 0]]\n"
     ]
    }
   ],
   "source": [
    "# 初始化数组，不指定具体数值，里面的值有可能是0，有可能不是0，默认数组的每个元素都是float64类型的 \n",
    "# 第二个参数可以指定数据类型\n",
    "arr5 = np.empty((3, 4), int)\n",
    "print(arr5)"
   ]
  },
  {
   "cell_type": "markdown",
   "metadata": {},
   "source": [
    "## ndarray 的arage 和reshape"
   ]
  },
  {
   "cell_type": "code",
   "execution_count": 69,
   "metadata": {
    "collapsed": false
   },
   "outputs": [
    {
     "name": "stdout",
     "output_type": "stream",
     "text": [
      "[0 1 2 3 4 5 6 7 8 9]\n"
     ]
    }
   ],
   "source": [
    "# 等同于先创建一个列表，再使用array方法来创建数组\n",
    "\n",
    "arr = np.arange(10)\n",
    "print(arr)"
   ]
  },
  {
   "cell_type": "code",
   "execution_count": 65,
   "metadata": {
    "collapsed": false
   },
   "outputs": [
    {
     "name": "stdout",
     "output_type": "stream",
     "text": [
      "[[0 1 2 3 4]\n",
      " [5 6 7 8 9]]\n"
     ]
    }
   ],
   "source": [
    "# reshape 用来调整原数组的维数，但是元素个数的总数不变\n",
    "arr2 = arr.reshape(2, 5)\n",
    "print(arr2)"
   ]
  },
  {
   "cell_type": "code",
   "execution_count": 66,
   "metadata": {
    "collapsed": false
   },
   "outputs": [
    {
     "name": "stdout",
     "output_type": "stream",
     "text": [
      "[[[0 1 2 3 4]\n",
      "  [5 6 7 8 9]]]\n"
     ]
    }
   ],
   "source": [
    "# 将十个元素的一维数组改变成 一个三维数组\n",
    "arr3 = arr.reshape(1, 2, 5)\n",
    "print(arr3)"
   ]
  },
  {
   "cell_type": "code",
   "execution_count": 72,
   "metadata": {
    "collapsed": false
   },
   "outputs": [
    {
     "name": "stdout",
     "output_type": "stream",
     "text": [
      "[0 5 7 2 3 8 6 1 9 4]\n",
      "[[0 5 7 2 3]\n",
      " [8 6 1 9 4]]\n"
     ]
    }
   ],
   "source": [
    "# 随机打乱原数组的序列\n",
    "np.random.shuffle(arr)\n",
    "print(arr)\n",
    "print(arr.reshape(2, 5))"
   ]
  },
  {
   "cell_type": "markdown",
   "metadata": {},
   "source": [
    "## 数组的数据类型转换"
   ]
  },
  {
   "cell_type": "code",
   "execution_count": 79,
   "metadata": {
    "collapsed": false
   },
   "outputs": [
    {
     "name": "stdout",
     "output_type": "stream",
     "text": [
      "[[ 0.  0.  0.  0.]\n",
      " [ 0.  0.  0.  0.]\n",
      " [ 0.  0.  0.  0.]]\n"
     ]
    }
   ],
   "source": [
    "zeros_float = np.zeros((3, 4))\n",
    "print(zeros_float)"
   ]
  },
  {
   "cell_type": "code",
   "execution_count": 80,
   "metadata": {
    "collapsed": false
   },
   "outputs": [
    {
     "name": "stdout",
     "output_type": "stream",
     "text": [
      "[[0 0 0 0]\n",
      " [0 0 0 0]\n",
      " [0 0 0 0]]\n"
     ]
    }
   ],
   "source": [
    "zeros_int = zeros_float.astype(np.int32)\n",
    "print(zeros_int)"
   ]
  },
  {
   "cell_type": "code",
   "execution_count": null,
   "metadata": {
    "collapsed": true
   },
   "outputs": [],
   "source": []
  },
  {
   "cell_type": "code",
   "execution_count": null,
   "metadata": {
    "collapsed": true
   },
   "outputs": [],
   "source": []
  },
  {
   "cell_type": "code",
   "execution_count": null,
   "metadata": {
    "collapsed": true
   },
   "outputs": [],
   "source": []
  },
  {
   "cell_type": "code",
   "execution_count": null,
   "metadata": {
    "collapsed": true
   },
   "outputs": [],
   "source": []
  },
  {
   "cell_type": "code",
   "execution_count": null,
   "metadata": {
    "collapsed": true
   },
   "outputs": [],
   "source": []
  },
  {
   "cell_type": "code",
   "execution_count": null,
   "metadata": {
    "collapsed": true
   },
   "outputs": [],
   "source": []
  }
 ],
 "metadata": {
  "kernelspec": {
   "display_name": "Python 3",
   "language": "python",
   "name": "python3"
  },
  "language_info": {
   "codemirror_mode": {
    "name": "ipython",
    "version": 3
   },
   "file_extension": ".py",
   "mimetype": "text/x-python",
   "name": "python",
   "nbconvert_exporter": "python",
   "pygments_lexer": "ipython3",
   "version": "3.6.0"
  }
 },
 "nbformat": 4,
 "nbformat_minor": 2
}
