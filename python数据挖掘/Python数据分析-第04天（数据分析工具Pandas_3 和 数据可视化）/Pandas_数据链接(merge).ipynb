{
 "cells": [
  {
   "cell_type": "code",
   "execution_count": 1,
   "metadata": {
    "collapsed": true
   },
   "outputs": [],
   "source": [
    "import pandas as pd\n",
    "import numpy as np"
   ]
  },
  {
   "cell_type": "code",
   "execution_count": 2,
   "metadata": {
    "collapsed": false
   },
   "outputs": [
    {
     "name": "stdout",
     "output_type": "stream",
     "text": [
      "   data1 key\n",
      "0      8   b\n",
      "1      9   b\n",
      "2      6   a\n",
      "3      8   c\n",
      "4      4   a\n",
      "5      1   a\n",
      "6      5   b\n",
      "   data2 key\n",
      "0      7   a\n",
      "1      0   b\n",
      "2      1   d\n"
     ]
    }
   ],
   "source": [
    "df_obj1 = pd.DataFrame({'key': ['b', 'b', 'a', 'c', 'a', 'a', 'b'],\n",
    "                        'data1' : np.random.randint(0,10,7)})\n",
    "df_obj2 = pd.DataFrame({'key': ['a', 'b', 'd'],\n",
    "                        'data2' : np.random.randint(0,10,3)})\n",
    "\n",
    "print(df_obj1)\n",
    "print(df_obj2)"
   ]
  },
  {
   "cell_type": "markdown",
   "metadata": {},
   "source": [
    "## 数据合并：merge 详解（可以使用merge将多个表进行合并）"
   ]
  },
  {
   "cell_type": "code",
   "execution_count": 5,
   "metadata": {
    "collapsed": false
   },
   "outputs": [
    {
     "name": "stdout",
     "output_type": "stream",
     "text": [
      "   data1 key  data2\n",
      "0      8   b      0\n",
      "1      9   b      0\n",
      "2      5   b      0\n",
      "3      6   a      7\n",
      "4      4   a      7\n",
      "5      1   a      7\n"
     ]
    }
   ],
   "source": [
    "# 1. 如果没有指定外键，那么默认使用相同的列名做为外键\n",
    "print(pd.merge(df_obj1, df_obj2))"
   ]
  },
  {
   "cell_type": "code",
   "execution_count": 6,
   "metadata": {
    "collapsed": false
   },
   "outputs": [
    {
     "name": "stdout",
     "output_type": "stream",
     "text": [
      "   data1 key  data2\n",
      "0      8   b      0\n",
      "1      9   b      0\n",
      "2      5   b      0\n",
      "3      6   a      7\n",
      "4      4   a      7\n",
      "5      1   a      7\n"
     ]
    }
   ],
   "source": [
    "# 2. 通过 on 参数指定一个外键\n",
    "print(pd.merge(df_obj1, df_obj2, on=\"key\"))"
   ]
  },
  {
   "cell_type": "code",
   "execution_count": 8,
   "metadata": {
    "collapsed": false
   },
   "outputs": [
    {
     "name": "stdout",
     "output_type": "stream",
     "text": [
      "   data1 key1\n",
      "0      8    b\n",
      "1      9    b\n",
      "2      6    a\n",
      "3      8    c\n",
      "4      4    a\n",
      "5      1    a\n",
      "6      5    b\n",
      "   data2 key2\n",
      "0      7    a\n",
      "1      0    b\n",
      "2      1    d\n"
     ]
    }
   ],
   "source": [
    "# 3. left_on : 左边数据集的\"外键\",  right_on：右边数据集的 \"外键\"\n",
    "df_obj1 = df_obj1.rename(columns={\"key\" : \"key1\"})\n",
    "df_obj2 = df_obj2.rename(columns={\"key\" : \"key2\"})\n",
    "print(df_obj1)\n",
    "print(df_obj2)"
   ]
  },
  {
   "cell_type": "code",
   "execution_count": 9,
   "metadata": {
    "collapsed": false
   },
   "outputs": [
    {
     "name": "stdout",
     "output_type": "stream",
     "text": [
      "   data1 key1  data2 key2\n",
      "0      8    b      0    b\n",
      "1      9    b      0    b\n",
      "2      5    b      0    b\n",
      "3      6    a      7    a\n",
      "4      4    a      7    a\n",
      "5      1    a      7    a\n"
     ]
    }
   ],
   "source": [
    "# 当两个数据集没有相同名称的\"外键\"，可以使用left_on 和 right_on来指定两个数据集的外键\n",
    "print(pd.merge(df_obj1, df_obj2, left_on = \"key1\", right_on = \"key2\"))"
   ]
  },
  {
   "cell_type": "code",
   "execution_count": 11,
   "metadata": {
    "collapsed": false
   },
   "outputs": [
    {
     "data": {
      "text/plain": [
       "'\\nIn [1]: a = {2, 3, 4, 5}\\n\\nIn [2]: type(a)\\nOut[2]: set\\n\\nIn [3]: a = {2, 3, 4, 5}\\n\\nIn [4]: b = {5, 6, 7, 8}\\n\\nIn [5]: a & b\\nOut[5]: {5}\\n\\nIn [6]: a | b\\nOut[6]: {2, 3, 4, 5, 6, 7, 8}\\n'"
      ]
     },
     "execution_count": 11,
     "metadata": {},
     "output_type": "execute_result"
    }
   ],
   "source": [
    "# merge默认是内连接，结果是所有数据的交集\n",
    "# 交集： 既属于集合A 也属于集合B的数据集合，称作 A和B 的交集 (A & B)\n",
    "# 并集：所有属于A，或者属于B 的数据集合，称作 A 和 B 的并集 (A | B)\n",
    "'''\n",
    "In [1]: a = {2, 3, 4, 5}\n",
    "\n",
    "In [2]: type(a)\n",
    "Out[2]: set\n",
    "\n",
    "In [3]: a = {2, 3, 4, 5}\n",
    "\n",
    "In [4]: b = {5, 6, 7, 8}\n",
    "\n",
    "In [5]: a & b\n",
    "Out[5]: {5}\n",
    "\n",
    "In [6]: a | b\n",
    "Out[6]: {2, 3, 4, 5, 6, 7, 8}\n",
    "'''"
   ]
  },
  {
   "cell_type": "code",
   "execution_count": 10,
   "metadata": {
    "collapsed": false
   },
   "outputs": [
    {
     "name": "stdout",
     "output_type": "stream",
     "text": [
      "   data1 key1  data2 key2\n",
      "0    8.0    b    0.0    b\n",
      "1    9.0    b    0.0    b\n",
      "2    5.0    b    0.0    b\n",
      "3    6.0    a    7.0    a\n",
      "4    4.0    a    7.0    a\n",
      "5    1.0    a    7.0    a\n",
      "6    8.0    c    NaN  NaN\n",
      "7    NaN  NaN    1.0    d\n"
     ]
    }
   ],
   "source": [
    "# 4. 通过 how 参数来指定连接方式\n",
    "# 4.0 outer 外连接，结果是所有数据的并集\n",
    "print(pd.merge(df_obj1, df_obj2, left_on = \"key1\", right_on = \"key2\", how = \"outer\"))"
   ]
  },
  {
   "cell_type": "code",
   "execution_count": 13,
   "metadata": {
    "collapsed": false
   },
   "outputs": [
    {
     "name": "stdout",
     "output_type": "stream",
     "text": [
      "   data1 key1  data2 key2\n",
      "0      8    b    0.0    b\n",
      "1      9    b    0.0    b\n",
      "2      6    a    7.0    a\n",
      "3      8    c    NaN  NaN\n",
      "4      4    a    7.0    a\n",
      "5      1    a    7.0    a\n",
      "6      5    b    0.0    b\n"
     ]
    }
   ],
   "source": [
    "# 4.1. left 左连接：表示无论右边数据是否得到匹配，都会把左边数据全部显示 \n",
    "print(pd.merge(df_obj1, df_obj2, left_on = \"key1\", right_on = \"key2\", how = \"left\"))"
   ]
  },
  {
   "cell_type": "code",
   "execution_count": 14,
   "metadata": {
    "collapsed": false
   },
   "outputs": [
    {
     "name": "stdout",
     "output_type": "stream",
     "text": [
      "   data1 key1  data2 key2\n",
      "0    8.0    b      0    b\n",
      "1    9.0    b      0    b\n",
      "2    5.0    b      0    b\n",
      "3    6.0    a      7    a\n",
      "4    4.0    a      7    a\n",
      "5    1.0    a      7    a\n",
      "6    NaN  NaN      1    d\n"
     ]
    }
   ],
   "source": [
    "# 4.2. right 右连接：表示无论左边数据是否得到匹配，都会把右边数据全部显示 \n",
    "print(pd.merge(df_obj1, df_obj2, left_on = \"key1\", right_on = \"key2\", how = \"right\"))"
   ]
  },
  {
   "cell_type": "code",
   "execution_count": 15,
   "metadata": {
    "collapsed": false
   },
   "outputs": [
    {
     "name": "stdout",
     "output_type": "stream",
     "text": [
      "   data key\n",
      "0     7   b\n",
      "1     3   b\n",
      "2     9   a\n",
      "3     1   c\n",
      "4     8   a\n",
      "5     8   a\n",
      "6     0   b\n",
      "   data key\n",
      "0     2   a\n",
      "1     3   b\n",
      "2     2   d\n"
     ]
    }
   ],
   "source": [
    "5. # 处理重复列名\n",
    "newdf_obj1 = pd.DataFrame({'key': ['b', 'b', 'a', 'c', 'a', 'a', 'b'],\n",
    "                        'data' : np.random.randint(0,10,7)})\n",
    "newdf_obj2 = pd.DataFrame({'key': ['a', 'b', 'd'],\n",
    "                        'data' : np.random.randint(0,10,3)})\n",
    "print(newdf_obj1)\n",
    "print(newdf_obj2)"
   ]
  },
  {
   "cell_type": "code",
   "execution_count": 17,
   "metadata": {
    "collapsed": false
   },
   "outputs": [
    {
     "name": "stdout",
     "output_type": "stream",
     "text": [
      "   data_left key  data_right\n",
      "0          7   b           3\n",
      "1          3   b           3\n",
      "2          0   b           3\n",
      "3          9   a           2\n",
      "4          8   a           2\n",
      "5          8   a           2\n"
     ]
    }
   ],
   "source": [
    "# 如果两个数据集的列名是相同的，那么指定一个外键，通过suffixes再将其他列名添加一个后缀\n",
    "print(pd.merge(newdf_obj1, newdf_obj2, on = \"key\", suffixes = (\"_left\", \"_right\")))"
   ]
  },
  {
   "cell_type": "code",
   "execution_count": 18,
   "metadata": {
    "collapsed": false
   },
   "outputs": [
    {
     "name": "stdout",
     "output_type": "stream",
     "text": [
      "   data1 key\n",
      "0      9   b\n",
      "1      6   b\n",
      "2      0   a\n",
      "3      7   c\n",
      "4      5   a\n",
      "5      3   a\n",
      "6      6   b\n",
      "   data2\n",
      "a      8\n",
      "b      4\n",
      "d      1\n"
     ]
    }
   ],
   "source": [
    "# 7. 按索引链接： left_index, right_index\n",
    "# left_index：使用左边的DataFrame对象的行索引做为连接健\n",
    "# right_index：使用右边的DataFrame对象的行索引做为连接健\n",
    "df_obj1 = pd.DataFrame({'key': ['b', 'b', 'a', 'c', 'a', 'a', 'b'],\n",
    "                        'data1' : np.random.randint(0,10,7)})\n",
    "df_obj2 = pd.DataFrame({'data2' : np.random.randint(0,10,3)}, index=['a', 'b', 'd'])\n",
    "print(df_obj1)\n",
    "print(df_obj2)"
   ]
  },
  {
   "cell_type": "code",
   "execution_count": 20,
   "metadata": {
    "collapsed": false
   },
   "outputs": [
    {
     "name": "stdout",
     "output_type": "stream",
     "text": [
      "   data1 key  data2\n",
      "0    9.0   b    4.0\n",
      "1    6.0   b    4.0\n",
      "6    6.0   b    4.0\n",
      "2    0.0   a    8.0\n",
      "4    5.0   a    8.0\n",
      "5    3.0   a    8.0\n",
      "3    7.0   c    NaN\n",
      "6    NaN   d    1.0\n"
     ]
    }
   ],
   "source": [
    "# 左侧的数据按key 列来做主键， 右侧的诗句按行索引来做主键（不指定how，默认是交集，outer指定为并集）\n",
    "print(pd.merge(df_obj1, df_obj2, left_on = \"key\", right_index = True, how = \"outer\"))"
   ]
  },
  {
   "cell_type": "code",
   "execution_count": null,
   "metadata": {
    "collapsed": true
   },
   "outputs": [],
   "source": []
  }
 ],
 "metadata": {
  "kernelspec": {
   "display_name": "Python 3",
   "language": "python",
   "name": "python3"
  },
  "language_info": {
   "codemirror_mode": {
    "name": "ipython",
    "version": 3
   },
   "file_extension": ".py",
   "mimetype": "text/x-python",
   "name": "python",
   "nbconvert_exporter": "python",
   "pygments_lexer": "ipython3",
   "version": "3.6.0"
  }
 },
 "nbformat": 4,
 "nbformat_minor": 2
}
