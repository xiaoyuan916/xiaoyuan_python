{
 "cells": [
  {
   "cell_type": "code",
   "execution_count": 2,
   "metadata": {
    "collapsed": true
   },
   "outputs": [],
   "source": [
    "import pandas as pd\n",
    "import numpy as np"
   ]
  },
  {
   "cell_type": "code",
   "execution_count": 4,
   "metadata": {
    "collapsed": false
   },
   "outputs": [
    {
     "name": "stdout",
     "output_type": "stream",
     "text": [
      "          a         b         c         d\n",
      "0  0.023122  0.930739  0.761163  0.696819\n",
      "1  0.904298  0.838954  0.163510  0.229917\n",
      "2  0.698211  0.644437  0.310298  0.855919\n"
     ]
    }
   ],
   "source": [
    "df_obj = pd.DataFrame(np.random.rand(3, 4), columns = [\"a\", \"b\", \"c\", \"d\"])\n",
    "print(df_obj)"
   ]
  },
  {
   "cell_type": "markdown",
   "metadata": {},
   "source": [
    "#### 统计计算"
   ]
  },
  {
   "cell_type": "code",
   "execution_count": null,
   "metadata": {
    "collapsed": true
   },
   "outputs": [],
   "source": [
    "# axis 指定统计运算的轴方向，默认是0 统计列， 1 是统计行\n",
    "# skipna 统计时跳过nan，默认是True是跳过"
   ]
  },
  {
   "cell_type": "code",
   "execution_count": 6,
   "metadata": {
    "collapsed": false
   },
   "outputs": [
    {
     "name": "stdout",
     "output_type": "stream",
     "text": [
      "0    2.411843\n",
      "1    2.136679\n",
      "2    2.508866\n",
      "dtype: float64\n"
     ]
    }
   ],
   "source": [
    "print(df_obj.sum(axis=1))"
   ]
  },
  {
   "cell_type": "code",
   "execution_count": 8,
   "metadata": {
    "collapsed": false
   },
   "outputs": [
    {
     "name": "stdout",
     "output_type": "stream",
     "text": [
      "0    0.023122\n",
      "1    0.163510\n",
      "2    0.310298\n",
      "dtype: float64\n"
     ]
    }
   ],
   "source": [
    "print(df_obj.min())"
   ]
  },
  {
   "cell_type": "markdown",
   "metadata": {},
   "source": [
    "#### 描述计算"
   ]
  },
  {
   "cell_type": "code",
   "execution_count": 11,
   "metadata": {
    "collapsed": false
   },
   "outputs": [
    {
     "name": "stdout",
     "output_type": "stream",
     "text": [
      "              a         b         c         d\n",
      "count  3.000000  3.000000  3.000000  3.000000\n",
      "mean   0.541877  0.804710  0.411657  0.594218\n",
      "std    0.460921  0.146190  0.311452  0.325369\n",
      "min    0.023122  0.644437  0.163510  0.229917\n",
      "25%    0.360667  0.741696  0.236904  0.463368\n",
      "50%    0.698211  0.838954  0.310298  0.696819\n",
      "75%    0.801255  0.884846  0.535730  0.776369\n",
      "max    0.904298  0.930739  0.761163  0.855919\n"
     ]
    }
   ],
   "source": [
    "# 产生数据集的数据大概描述\n",
    "print(df_obj.describe())"
   ]
  },
  {
   "cell_type": "code",
   "execution_count": null,
   "metadata": {
    "collapsed": true
   },
   "outputs": [],
   "source": []
  }
 ],
 "metadata": {
  "kernelspec": {
   "display_name": "Python 3",
   "language": "python",
   "name": "python3"
  },
  "language_info": {
   "codemirror_mode": {
    "name": "ipython",
    "version": 3
   },
   "file_extension": ".py",
   "mimetype": "text/x-python",
   "name": "python",
   "nbconvert_exporter": "python",
   "pygments_lexer": "ipython3",
   "version": "3.6.0"
  }
 },
 "nbformat": 4,
 "nbformat_minor": 2
}
