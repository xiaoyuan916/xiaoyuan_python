{
 "cells": [
  {
   "cell_type": "code",
   "execution_count": 1,
   "metadata": {
    "collapsed": true
   },
   "outputs": [],
   "source": [
    "import pandas as pd\n",
    "import numpy as np"
   ]
  },
  {
   "cell_type": "markdown",
   "metadata": {},
   "source": [
    "## 分组"
   ]
  },
  {
   "cell_type": "code",
   "execution_count": 2,
   "metadata": {
    "collapsed": false
   },
   "outputs": [
    {
     "name": "stdout",
     "output_type": "stream",
     "text": [
      "      data1     data2 key1   key2\n",
      "0  1.614626 -1.571301    a    one\n",
      "1  0.460157  0.041038    b    one\n",
      "2 -2.070866 -0.885139    a    two\n",
      "3  0.770066  0.278396    b  three\n",
      "4  0.040073 -1.834590    a    two\n",
      "5 -0.105759 -0.115968    b    two\n",
      "6  0.442917 -1.719780    a    one\n",
      "7  1.368152 -0.798185    a  three\n"
     ]
    }
   ],
   "source": [
    "dict_obj = {'key1' : ['a', 'b', 'a', 'b', \n",
    "                      'a', 'b', 'a', 'a'],\n",
    "            'key2' : ['one', 'one', 'two', 'three',\n",
    "                      'two', 'two', 'one', 'three'],\n",
    "            'data1': np.random.randn(8),\n",
    "            'data2': np.random.randn(8)}\n",
    "df_obj = pd.DataFrame(dict_obj)\n",
    "print(df_obj)"
   ]
  },
  {
   "cell_type": "markdown",
   "metadata": {},
   "source": [
    "#### groupyby 分组"
   ]
  },
  {
   "cell_type": "code",
   "execution_count": 7,
   "metadata": {
    "collapsed": false
   },
   "outputs": [
    {
     "name": "stdout",
     "output_type": "stream",
     "text": [
      "<pandas.core.groupby.DataFrameGroupBy object at 0x00000134964429E8>\n"
     ]
    }
   ],
   "source": [
    "## 1. 分组操作，创建groupby对象\n",
    "\n",
    "# 如果对整个数据集进行分组，groupby参数直接指定列名即可\n",
    "grouped = df_obj.groupby(\"key2\")\n",
    "print(grouped)"
   ]
  },
  {
   "cell_type": "code",
   "execution_count": 8,
   "metadata": {
    "collapsed": false
   },
   "outputs": [
    {
     "name": "stdout",
     "output_type": "stream",
     "text": [
      "          data1     data2\n",
      "key2                     \n",
      "one    2.517700 -3.250042\n",
      "three  2.138218 -0.519789\n",
      "two   -2.136552 -2.835698\n"
     ]
    }
   ],
   "source": [
    "# 2. 分组运算，对groupby对象进行运算\n",
    "\n",
    "## 在分组的基础上，对分组对象调用方法进行运算\n",
    "## 注意：分组运算只会作用于数据部分，非数据部分不参与运算\n",
    "print(grouped.sum())"
   ]
  },
  {
   "cell_type": "code",
   "execution_count": 12,
   "metadata": {
    "collapsed": false
   },
   "outputs": [
    {
     "data": {
      "text/plain": [
       "key2\n",
       "one     -1.083347\n",
       "three   -0.259895\n",
       "two     -0.945233\n",
       "Name: data2, dtype: float64"
      ]
     },
     "execution_count": 12,
     "metadata": {},
     "output_type": "execute_result"
    }
   ],
   "source": [
    "# 如果对单独某个数据部分的列进行分组运算，那么groupby的参数必须指定数据集的某一列进行分组\n",
    "grouped2 = df_obj[\"data2\"].groupby(df_obj[\"key1\"])\n",
    "grouped2.mean()"
   ]
  },
  {
   "cell_type": "code",
   "execution_count": null,
   "metadata": {
    "collapsed": true
   },
   "outputs": [],
   "source": [
    "# 3. 自定义分组运算\n",
    "# 如果现有的分组不满足业务需求，可以自己创建一个分组规则，实现数据分组运算"
   ]
  },
  {
   "cell_type": "code",
   "execution_count": 16,
   "metadata": {
    "collapsed": false
   },
   "outputs": [
    {
     "data": {
      "text/html": [
       "<div>\n",
       "<table border=\"1\" class=\"dataframe\">\n",
       "  <thead>\n",
       "    <tr style=\"text-align: right;\">\n",
       "      <th></th>\n",
       "      <th>data1</th>\n",
       "      <th>data2</th>\n",
       "    </tr>\n",
       "  </thead>\n",
       "  <tbody>\n",
       "    <tr>\n",
       "      <th>aa</th>\n",
       "      <td>1.654699</td>\n",
       "      <td>-3.405891</td>\n",
       "    </tr>\n",
       "    <tr>\n",
       "      <th>bb</th>\n",
       "      <td>0.354398</td>\n",
       "      <td>-0.074930</td>\n",
       "    </tr>\n",
       "    <tr>\n",
       "      <th>cc</th>\n",
       "      <td>-1.627948</td>\n",
       "      <td>-2.604919</td>\n",
       "    </tr>\n",
       "    <tr>\n",
       "      <th>dd</th>\n",
       "      <td>2.138218</td>\n",
       "      <td>-0.519789</td>\n",
       "    </tr>\n",
       "  </tbody>\n",
       "</table>\n",
       "</div>"
      ],
      "text/plain": [
       "       data1     data2\n",
       "aa  1.654699 -3.405891\n",
       "bb  0.354398 -0.074930\n",
       "cc -1.627948 -2.604919\n",
       "dd  2.138218 -0.519789"
      ]
     },
     "execution_count": 16,
     "metadata": {},
     "output_type": "execute_result"
    }
   ],
   "source": [
    "self_key = [\"aa\", \"bb\", \"cc\", \"dd\", \"aa\", \"bb\", \"cc\", \"dd\"]\n",
    "grouped3 = df_obj.groupby(self_key)\n",
    "grouped3.sum()"
   ]
  },
  {
   "cell_type": "code",
   "execution_count": 25,
   "metadata": {
    "collapsed": false
   },
   "outputs": [
    {
     "data": {
      "text/html": [
       "<div>\n",
       "<table border=\"1\" class=\"dataframe\">\n",
       "  <thead>\n",
       "    <tr style=\"text-align: right;\">\n",
       "      <th></th>\n",
       "      <th></th>\n",
       "      <th>data1</th>\n",
       "      <th>data2</th>\n",
       "    </tr>\n",
       "    <tr>\n",
       "      <th>key2</th>\n",
       "      <th>key1</th>\n",
       "      <th></th>\n",
       "      <th></th>\n",
       "    </tr>\n",
       "  </thead>\n",
       "  <tbody>\n",
       "    <tr>\n",
       "      <th rowspan=\"2\" valign=\"top\">one</th>\n",
       "      <th>a</th>\n",
       "      <td>2.057543</td>\n",
       "      <td>-3.291080</td>\n",
       "    </tr>\n",
       "    <tr>\n",
       "      <th>b</th>\n",
       "      <td>0.460157</td>\n",
       "      <td>0.041038</td>\n",
       "    </tr>\n",
       "    <tr>\n",
       "      <th rowspan=\"2\" valign=\"top\">three</th>\n",
       "      <th>a</th>\n",
       "      <td>1.368152</td>\n",
       "      <td>-0.798185</td>\n",
       "    </tr>\n",
       "    <tr>\n",
       "      <th>b</th>\n",
       "      <td>0.770066</td>\n",
       "      <td>0.278396</td>\n",
       "    </tr>\n",
       "    <tr>\n",
       "      <th rowspan=\"2\" valign=\"top\">two</th>\n",
       "      <th>a</th>\n",
       "      <td>-2.030793</td>\n",
       "      <td>-2.719729</td>\n",
       "    </tr>\n",
       "    <tr>\n",
       "      <th>b</th>\n",
       "      <td>-0.105759</td>\n",
       "      <td>-0.115968</td>\n",
       "    </tr>\n",
       "  </tbody>\n",
       "</table>\n",
       "</div>"
      ],
      "text/plain": [
       "               data1     data2\n",
       "key2  key1                    \n",
       "one   a     2.057543 -3.291080\n",
       "      b     0.460157  0.041038\n",
       "three a     1.368152 -0.798185\n",
       "      b     0.770066  0.278396\n",
       "two   a    -2.030793 -2.719729\n",
       "      b    -0.105759 -0.115968"
      ]
     },
     "execution_count": 25,
     "metadata": {},
     "output_type": "execute_result"
    }
   ],
   "source": [
    "# 4. 多层分组，索引顺序按列表里的参数顺序来决定\n",
    "#print(df_obj)\n",
    "grouped4 = df_obj.groupby([\"key2\", \"key1\"])\n",
    "#grouped4 = df_obj[\"data1\"].groupby([df_obj[\"key2\"], df_obj[\"key1\"]])\n",
    "grouped4.sum()"
   ]
  },
  {
   "cell_type": "markdown",
   "metadata": {},
   "source": [
    "### groupby 支持迭代操作"
   ]
  },
  {
   "cell_type": "code",
   "execution_count": 30,
   "metadata": {
    "collapsed": false
   },
   "outputs": [
    {
     "name": "stdout",
     "output_type": "stream",
     "text": [
      "('one', 'a')\n",
      "      data1     data2 key1 key2\n",
      "0  1.614626 -1.571301    a  one\n",
      "6  0.442917 -1.719780    a  one\n",
      "('one', 'b')\n",
      "      data1     data2 key1 key2\n",
      "1  0.460157  0.041038    b  one\n",
      "('three', 'a')\n",
      "      data1     data2 key1   key2\n",
      "7  1.368152 -0.798185    a  three\n",
      "('three', 'b')\n",
      "      data1     data2 key1   key2\n",
      "3  0.770066  0.278396    b  three\n",
      "('two', 'a')\n",
      "      data1     data2 key1 key2\n",
      "2 -2.070866 -0.885139    a  two\n",
      "4  0.040073 -1.834590    a  two\n",
      "('two', 'b')\n",
      "      data1     data2 key1 key2\n",
      "5 -0.105759 -0.115968    b  two\n"
     ]
    }
   ],
   "source": [
    "grouped4 = df_obj.groupby([\"key2\", \"key1\"])\n",
    "#print(grouped4)\n",
    "for name, data in grouped4:\n",
    "    print(name)\n",
    "    print(data)"
   ]
  },
  {
   "cell_type": "code",
   "execution_count": null,
   "metadata": {
    "collapsed": true
   },
   "outputs": [],
   "source": [
    "## GroupBy对象可以直接转换为字典和列表"
   ]
  },
  {
   "cell_type": "code",
   "execution_count": 33,
   "metadata": {
    "collapsed": false
   },
   "outputs": [
    {
     "name": "stdout",
     "output_type": "stream",
     "text": [
      "(('one', 'b'),       data1     data2 key1 key2\n",
      "1  0.460157  0.041038    b  one)\n"
     ]
    }
   ],
   "source": [
    "print(list(grouped4))"
   ]
  },
  {
   "cell_type": "code",
   "execution_count": 35,
   "metadata": {
    "collapsed": false
   },
   "outputs": [
    {
     "name": "stdout",
     "output_type": "stream",
     "text": [
      "{('one', 'a'):       data1     data2 key1 key2\n",
      "0  1.614626 -1.571301    a  one\n",
      "6  0.442917 -1.719780    a  one, ('one', 'b'):       data1     data2 key1 key2\n",
      "1  0.460157  0.041038    b  one, ('three', 'a'):       data1     data2 key1   key2\n",
      "7  1.368152 -0.798185    a  three, ('three', 'b'):       data1     data2 key1   key2\n",
      "3  0.770066  0.278396    b  three, ('two', 'a'):       data1     data2 key1 key2\n",
      "2 -2.070866 -0.885139    a  two\n",
      "4  0.040073 -1.834590    a  two, ('two', 'b'):       data1     data2 key1 key2\n",
      "5 -0.105759 -0.115968    b  two}\n"
     ]
    }
   ],
   "source": [
    "print(dict(list(grouped4)))"
   ]
  },
  {
   "cell_type": "code",
   "execution_count": null,
   "metadata": {
    "collapsed": true
   },
   "outputs": [],
   "source": [
    "## 桉数据类型分组"
   ]
  },
  {
   "cell_type": "code",
   "execution_count": 38,
   "metadata": {
    "collapsed": false
   },
   "outputs": [
    {
     "name": "stdout",
     "output_type": "stream",
     "text": [
      "data1    float64\n",
      "data2    float64\n",
      "key1      object\n",
      "key2      object\n",
      "dtype: object\n"
     ]
    }
   ],
   "source": [
    "print(df_obj.dtypes)"
   ]
  },
  {
   "cell_type": "code",
   "execution_count": 43,
   "metadata": {
    "collapsed": false
   },
   "outputs": [
    {
     "name": "stdout",
     "output_type": "stream",
     "text": [
      "float64    2\n",
      "object     2\n",
      "dtype: int64\n"
     ]
    }
   ],
   "source": [
    "# 可以通过数据类型分组，默认是按列，axis=1 表示轴方向为行\n",
    "print(df_obj.groupby(df_obj.dtypes, axis = 1).size())"
   ]
  },
  {
   "cell_type": "code",
   "execution_count": 44,
   "metadata": {
    "collapsed": false
   },
   "outputs": [
    {
     "name": "stdout",
     "output_type": "stream",
     "text": [
      "   a    b    c    d  e\n",
      "A  7  3.0  6.0  7.0  4\n",
      "B  8  NaN  NaN  NaN  7\n",
      "C  4  4.0  5.0  9.0  8\n",
      "D  7  3.0  3.0  2.0  3\n",
      "E  4  8.0  6.0  8.0  5\n"
     ]
    }
   ],
   "source": [
    "# 构建一个数据部分区间为 1~10的5行5列， 行索引是 index列表， 列索引是 columns 列表\n",
    "df_obj2 = pd.DataFrame(np.random.randint(1, 10, (5,5)),\n",
    "                       columns=['a', 'b', 'c', 'd', 'e'],\n",
    "                       index=['A', 'B', 'C', 'D', 'E'])\n",
    "# 给指定某个部分的数据重新赋值为 np.NaN\n",
    "df_obj2.ix[1, 1:4] = np.NaN\n",
    "print(df_obj2)"
   ]
  },
  {
   "cell_type": "code",
   "execution_count": 52,
   "metadata": {
    "collapsed": false
   },
   "outputs": [
    {
     "name": "stdout",
     "output_type": "stream",
     "text": [
      "C#        1\n",
      "C++       1\n",
      "Java      1\n",
      "PHP       1\n",
      "Python    1\n",
      "dtype: int64\n"
     ]
    }
   ],
   "source": [
    "## 按字典分组\n",
    "dic = {\"a\" : \"C++\", \"b\": \"Python\", \"c\" : \"Java\", \"d\" : \"PHP\", \"e\" : \"C#\"}\n",
    "print(df_obj2.groupby(dic, axis = 1).size())"
   ]
  },
  {
   "cell_type": "code",
   "execution_count": 58,
   "metadata": {
    "collapsed": false
   },
   "outputs": [
    {
     "name": "stdout",
     "output_type": "stream",
     "text": [
      "      1\n",
      "A  27.0\n",
      "B  15.0\n",
      "C  30.0\n",
      "D  18.0\n",
      "E  31.0\n"
     ]
    }
   ],
   "source": [
    "## 通过自定义函数分组\n",
    "def group_key(idx):\n",
    "    \"\"\"\n",
    "        idx 为列索引或行索引\n",
    "    \"\"\"\n",
    "    #return idx\n",
    "    return len(idx)\n",
    "\n",
    "#print(df_obj2.groupby(group_key, axis=1).sum())\n",
    "print(df_obj2.groupby(len, axis = 1).sum())"
   ]
  },
  {
   "cell_type": "code",
   "execution_count": 59,
   "metadata": {
    "collapsed": false
   },
   "outputs": [
    {
     "name": "stdout",
     "output_type": "stream",
     "text": [
      "language Python Java Python Java Python\n",
      "index         A    A      B    C      B\n",
      "0             5    2      6    7      9\n",
      "1             1    2      2    2      2\n",
      "2             1    2      3    9      3\n",
      "3             4    5      5    7      6\n",
      "4             6    7      1    6      7\n"
     ]
    }
   ],
   "source": [
    "## 通过层级索引来分组\n",
    "columns = pd.MultiIndex.from_arrays([['Python', 'Java', 'Python', 'Java', 'Python'],\n",
    "                                     ['A', 'A', 'B', 'C', 'B']], names=['language', 'index'])\n",
    "df_obj4 = pd.DataFrame(np.random.randint(1, 10, (5, 5)), columns=columns)\n",
    "print(df_obj4)"
   ]
  },
  {
   "cell_type": "code",
   "execution_count": 62,
   "metadata": {
    "collapsed": false
   },
   "outputs": [
    {
     "name": "stdout",
     "output_type": "stream",
     "text": [
      "language  Java  Python\n",
      "0            9      20\n",
      "1            4       5\n",
      "2           11       7\n",
      "3           12      15\n",
      "4           13      14\n"
     ]
    }
   ],
   "source": [
    "#print(df_obj4.groupby(level =\"index\", axis=1).sum())\n",
    "print(df_obj4.groupby(level =\"language\", axis=1).sum())"
   ]
  },
  {
   "cell_type": "code",
   "execution_count": null,
   "metadata": {
    "collapsed": true
   },
   "outputs": [],
   "source": []
  }
 ],
 "metadata": {
  "kernelspec": {
   "display_name": "Python 3",
   "language": "python",
   "name": "python3"
  },
  "language_info": {
   "codemirror_mode": {
    "name": "ipython",
    "version": 3
   },
   "file_extension": ".py",
   "mimetype": "text/x-python",
   "name": "python",
   "nbconvert_exporter": "python",
   "pygments_lexer": "ipython3",
   "version": "3.6.0"
  }
 },
 "nbformat": 4,
 "nbformat_minor": 2
}
