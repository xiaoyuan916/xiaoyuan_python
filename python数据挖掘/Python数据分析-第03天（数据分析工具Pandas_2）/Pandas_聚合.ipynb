{
 "cells": [
  {
   "cell_type": "markdown",
   "metadata": {},
   "source": [
    "## 聚合"
   ]
  },
  {
   "cell_type": "code",
   "execution_count": 1,
   "metadata": {
    "collapsed": true
   },
   "outputs": [],
   "source": [
    "## 用于对分组后的数据进行运算"
   ]
  },
  {
   "cell_type": "code",
   "execution_count": 2,
   "metadata": {
    "collapsed": true
   },
   "outputs": [],
   "source": [
    "import pandas as pd\n",
    "import numpy as np"
   ]
  },
  {
   "cell_type": "code",
   "execution_count": 4,
   "metadata": {
    "collapsed": false
   },
   "outputs": [
    {
     "name": "stdout",
     "output_type": "stream",
     "text": [
      "   data1  data2 key1   key2\n",
      "0      7      8    a    one\n",
      "1      2      1    b    one\n",
      "2      7      5    a    two\n",
      "3      9      5    b  three\n",
      "4      6      4    a    two\n",
      "5      3      6    b    two\n",
      "6      8      7    a    one\n",
      "7      6      1    a  three\n"
     ]
    }
   ],
   "source": [
    "dict_obj = {'key1' : ['a', 'b', 'a', 'b', \n",
    "                      'a', 'b', 'a', 'a'],\n",
    "            'key2' : ['one', 'one', 'two', 'three',\n",
    "                      'two', 'two', 'one', 'three'],\n",
    "            'data1': np.random.randint(1,10, 8),\n",
    "            'data2': np.random.randint(1,10, 8)}\n",
    "df_obj = pd.DataFrame(dict_obj)\n",
    "print(df_obj)"
   ]
  },
  {
   "cell_type": "code",
   "execution_count": 15,
   "metadata": {
    "collapsed": false
   },
   "outputs": [
    {
     "name": "stdout",
     "output_type": "stream",
     "text": [
      "               data1     data2\n",
      "key1                          \n",
      "a    count  5.000000  5.000000\n",
      "     mean   6.800000  5.000000\n",
      "     std    0.836660  2.738613\n",
      "     min    6.000000  1.000000\n",
      "     25%    6.000000  4.000000\n",
      "     50%    7.000000  5.000000\n",
      "     75%    7.000000  7.000000\n",
      "     max    8.000000  8.000000\n",
      "b    count  3.000000  3.000000\n",
      "     mean   4.666667  4.000000\n",
      "     std    3.785939  2.645751\n",
      "     min    2.000000  1.000000\n",
      "     25%    2.500000  3.000000\n",
      "     50%    3.000000  5.000000\n",
      "     75%    6.000000  5.500000\n",
      "     max    9.000000  6.000000\n"
     ]
    }
   ],
   "source": [
    "# 1. 常用的内置聚合函数\n",
    "#print(df_obj.groupby(\"key1\").sum())\n",
    "#print(df_obj.groupby(\"key1\").max())\n",
    "#print(df_obj.groupby(\"key1\").min())\n",
    "#print(df_obj.groupby(\"key1\").mean())\n",
    "print(df_obj.groupby(\"key1\").describe())"
   ]
  },
  {
   "cell_type": "code",
   "execution_count": 19,
   "metadata": {
    "collapsed": false
   },
   "outputs": [
    {
     "name": "stdout",
     "output_type": "stream",
     "text": [
      "       data1  data2\n",
      "key2               \n",
      "one        6      7\n",
      "three      3      4\n",
      "two        4      2\n"
     ]
    }
   ],
   "source": [
    "# 2. 调用自定义聚合函数 做聚合运算\n",
    "# 函数作用：最大值和最小值的差\n",
    "def func(num):\n",
    "    return num.max() - num.min() \n",
    "print(df_obj.groupby(\"key2\").agg(func))"
   ]
  },
  {
   "cell_type": "code",
   "execution_count": 20,
   "metadata": {
    "collapsed": false
   },
   "outputs": [
    {
     "name": "stdout",
     "output_type": "stream",
     "text": [
      "     data1                    data2              \n",
      "       sum      mean max func   sum mean max func\n",
      "key1                                             \n",
      "a       34  6.800000   8    2    25    5   8    7\n",
      "b       14  4.666667   9    7    12    4   6    5\n"
     ]
    }
   ],
   "source": [
    "# 3. 调用多个聚合函数做聚合运算\n",
    "#注意：调用多个函数使用列表将函数放在一起，如果是内置聚合函数则用字符串表示 ，自定义函数直接写函数名\n",
    "print(df_obj.groupby(\"key1\").agg([\"sum\", \"mean\", \"max\", func]))"
   ]
  },
  {
   "cell_type": "code",
   "execution_count": 21,
   "metadata": {
    "collapsed": false
   },
   "outputs": [
    {
     "name": "stdout",
     "output_type": "stream",
     "text": [
      "         data1  data2\n",
      "key1                 \n",
      "a     6.800000     25\n",
      "b     4.666667     12\n"
     ]
    }
   ],
   "source": [
    "# 多不同数据使用不同的聚合函数\n",
    "# 每列作用不同的聚合函数\n",
    "dict_mapping = {'data1':'mean',\n",
    "                'data2':'sum'}\n",
    "print(df_obj.groupby('key1').agg(dict_mapping))"
   ]
  },
  {
   "cell_type": "code",
   "execution_count": 24,
   "metadata": {
    "collapsed": false
   },
   "outputs": [
    {
     "name": "stdout",
     "output_type": "stream",
     "text": [
      "         data1 data2          \n",
      "          mean   sum mean func\n",
      "key1                          \n",
      "a     6.800000    25    5    7\n",
      "b     4.666667    12    4    5\n"
     ]
    }
   ],
   "source": [
    "# 如果某一列使用多个聚合函数，参数是列表\n",
    "dict_mapping = {'data1':'mean',\n",
    "                'data2':['sum', 'mean', func]}\n",
    "print(df_obj.groupby('key1').agg(dict_mapping))"
   ]
  },
  {
   "cell_type": "code",
   "execution_count": null,
   "metadata": {
    "collapsed": true
   },
   "outputs": [],
   "source": []
  }
 ],
 "metadata": {
  "kernelspec": {
   "display_name": "Python 3",
   "language": "python",
   "name": "python3"
  },
  "language_info": {
   "codemirror_mode": {
    "name": "ipython",
    "version": 3
   },
   "file_extension": ".py",
   "mimetype": "text/x-python",
   "name": "python",
   "nbconvert_exporter": "python",
   "pygments_lexer": "ipython3",
   "version": "3.6.0"
  }
 },
 "nbformat": 4,
 "nbformat_minor": 2
}
