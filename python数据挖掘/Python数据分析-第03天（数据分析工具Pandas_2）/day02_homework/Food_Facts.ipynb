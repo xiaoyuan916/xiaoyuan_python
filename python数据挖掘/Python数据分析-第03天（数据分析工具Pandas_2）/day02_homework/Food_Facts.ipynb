{
 "cells": [
  {
   "cell_type": "code",
   "execution_count": 1,
   "metadata": {
    "collapsed": true
   },
   "outputs": [],
   "source": [
    "import pandas as pd"
   ]
  },
  {
   "cell_type": "code",
   "execution_count": 2,
   "metadata": {
    "collapsed": true
   },
   "outputs": [],
   "source": [
    "filename = \"./FoodFacts.csv\""
   ]
  },
  {
   "cell_type": "code",
   "execution_count": 3,
   "metadata": {
    "collapsed": true
   },
   "outputs": [],
   "source": [
    "csv_obj = pd.read_csv(filename,usecols = ['countries_en', 'additives_n']).dropna()"
   ]
  },
  {
   "cell_type": "code",
   "execution_count": 4,
   "metadata": {
    "collapsed": false
   },
   "outputs": [],
   "source": [
    "items = {}\n",
    "for i in csv_obj.index:\n",
    "    if csv_obj['countries_en'][i] in items:\n",
    "        items[csv_obj['countries_en'][i]] = float(items[csv_obj['countries_en'][i]]) + float(csv_obj['additives_n'][i])\n",
    "    else:\n",
    "        items[csv_obj['countries_en'][i]] = float(csv_obj['additives_n'][i])"
   ]
  },
  {
   "cell_type": "code",
   "execution_count": 5,
   "metadata": {
    "collapsed": false
   },
   "outputs": [],
   "source": [
    "dict_obj = pd.Series(items)\n",
    "data = dict_obj.sort_values(ascending=False)\n",
    "data.to_csv('newfood.csv')"
   ]
  },
  {
   "cell_type": "code",
   "execution_count": null,
   "metadata": {
    "collapsed": true
   },
   "outputs": [],
   "source": []
  }
 ],
 "metadata": {
  "kernelspec": {
   "display_name": "Python 3",
   "language": "python",
   "name": "python3"
  },
  "language_info": {
   "codemirror_mode": {
    "name": "ipython",
    "version": 3
   },
   "file_extension": ".py",
   "mimetype": "text/x-python",
   "name": "python",
   "nbconvert_exporter": "python",
   "pygments_lexer": "ipython3",
   "version": "3.6.0"
  }
 },
 "nbformat": 4,
 "nbformat_minor": 2
}
