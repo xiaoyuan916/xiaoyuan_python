{
 "cells": [
  {
   "cell_type": "code",
   "execution_count": 19,
   "metadata": {
    "collapsed": true
   },
   "outputs": [],
   "source": [
    "import pandas as pd\n",
    "import numpy as np"
   ]
  },
  {
   "cell_type": "code",
   "execution_count": 2,
   "metadata": {
    "collapsed": true
   },
   "outputs": [],
   "source": [
    "filename = \"./FoodFacts.csv\""
   ]
  },
  {
   "cell_type": "code",
   "execution_count": 29,
   "metadata": {
    "collapsed": false
   },
   "outputs": [],
   "source": [
    "csv_obj = pd.read_csv(filename,usecols = ['countries_en', 'additives_n']).dropna()"
   ]
  },
  {
   "cell_type": "code",
   "execution_count": 34,
   "metadata": {
    "collapsed": false
   },
   "outputs": [],
   "source": [
    "counties_list = csv_obj['countries_en'].unique()"
   ]
  },
  {
   "cell_type": "code",
   "execution_count": 45,
   "metadata": {
    "collapsed": false
   },
   "outputs": [
    {
     "name": "stdout",
     "output_type": "stream",
     "text": [
      "[1959.0, 60894.0, 2623.0, 1577.0, 148.0, 2204.0, 37.0, 1063.0, 266.0, 1.0, 179.0, 0.0, 11.0, 80.0, 6.0, 12.0, 0.0, 723.0, 51.0, 1.0, 3.0, 82.0, 17.0, 245.0, 17.0, 1.0, 11.0, 3.0, 2.0, 4.0, 391.0, 28.0, 1.0, 12.0, 0.0, 11.0, 85.0, 51.0, 400.0, 37.0, 77.0, 11.0, 80.0, 63.0, 2.0, 3.0, 1.0, 28.0, 3.0, 10.0, 3.0, 143.0, 11.0, 0.0, 2.0, 1.0, 5.0, 46.0, 0.0, 18.0, 44.0, 8.0, 110.0, 4.0, 4.0, 3.0, 98.0, 6.0, 88.0, 0.0, 95.0, 645.0, 21.0, 19.0, 15.0, 5.0, 40.0, 27.0, 4.0, 0.0, 0.0, 2.0, 3.0, 56.0, 8.0, 7.0, 33.0, 104.0, 3.0, 17.0, 91.0, 5.0, 8.0, 13.0, 1.0, 1.0, 1.0, 0.0, 4.0, 1.0, 3.0, 0.0, 1.0, 16.0, 0.0, 1.0, 5.0, 5.0, 140.0, 9.0, 0.0, 6.0, 4.0, 15.0, 3.0, 11.0, 0.0, 15.0, 1.0, 4.0, 0.0, 0.0, 3.0, 2.0, 10.0, 2.0, 0.0, 0.0, 8.0, 0.0, 1.0, 6.0, 6.0, 1.0, 8.0, 2.0, 1.0, 2.0, 1.0, 5.0, 3.0, 0.0, 0.0, 11.0, 0.0, 19.0, 10.0, 4.0, 2.0, 0.0, 0.0, 0.0, 0.0, 1.0, 0.0, 0.0, 0.0, 0.0, 0.0, 0.0, 1.0, 1.0, 5.0, 1.0, 4.0, 5.0, 0.0, 0.0, 0.0, 33.0, 0.0, 0.0, 0.0, 0.0, 4.0, 0.0, 0.0, 0.0, 1.0, 9.0, 7.0, 4.0, 0.0, 0.0, 1.0, 0.0, 0.0, 0.0, 0.0, 0.0, 0.0, 0.0, 0.0, 0.0, 0.0, 0.0, 0.0, 0.0, 0.0, 0.0, 1.0, 0.0, 3.0, 1.0, 3.0, 2.0, 3.0, 28.0, 12.0, 2.0, 1.0, 0.0, 2.0, 3.0, 4.0, 9.0, 14.0, 0.0, 15.0, 2.0, 18.0, 1.0, 4.0, 7.0, 4.0, 0.0, 0.0, 0.0, 3.0, 1.0, 9.0, 1.0, 0.0, 20.0, 1.0, 7.0, 0.0, 2.0, 3.0, 0.0, 0.0, 0.0, 1.0, 14.0, 0.0, 0.0, 0.0, 0.0, 1.0, 0.0, 0.0, 115.0, 0.0, 0.0, 0.0, 0.0, 0.0, 1.0, 3.0, 0.0, 0.0, 0.0, 0.0, 4.0, 0.0, 0.0, 1.0, 2.0, 0.0, 0.0, 0.0, 1.0, 5.0, 5.0, 0.0, 6.0, 0.0, 5.0, 33.0, 0.0, 5.0, 1.0, 0.0]\n"
     ]
    }
   ],
   "source": [
    "count = []\n",
    "for i in counties_list:\n",
    "    count.append(csv_obj.where(csv_obj['countries_en'] == i)['additives_n'].sum())\n",
    "print(count)\n",
    "# csv_obj.where(csv_obj['countries_en'] == 'China')['additives_n'].sum()"
   ]
  },
  {
   "cell_type": "code",
   "execution_count": null,
   "metadata": {
    "collapsed": true
   },
   "outputs": [],
   "source": []
  }
 ],
 "metadata": {
  "kernelspec": {
   "display_name": "Python 3",
   "language": "python",
   "name": "python3"
  },
  "language_info": {
   "codemirror_mode": {
    "name": "ipython",
    "version": 3
   },
   "file_extension": ".py",
   "mimetype": "text/x-python",
   "name": "python",
   "nbconvert_exporter": "python",
   "pygments_lexer": "ipython3",
   "version": "3.6.0"
  }
 },
 "nbformat": 4,
 "nbformat_minor": 2
}
